{
 "cells": [
  {
   "cell_type": "markdown",
   "metadata": {
    "id": "y0xocXpOp2QB"
   },
   "source": [
    "### Importar base de dados e instalar framework de recomendação"
   ]
  },
  {
   "cell_type": "markdown",
   "metadata": {
    "id": "aYRhN3GYp2QO"
   },
   "source": [
    "### Importar bibliotecas"
   ]
  },
  {
   "cell_type": "code",
   "execution_count": null,
   "metadata": {},
   "outputs": [],
   "source": [
    "import wget\n",
    "!python3 -m wget https://github.com/mmanzato/MBABigData/raw/master/ml-20m-compact.tar.gz\n",
    "!tar -xvzf ml-20m-compact.tar.gz"
   ]
  },
  {
   "cell_type": "code",
   "execution_count": null,
   "metadata": {},
   "outputs": [],
   "source": [
    "import sys\n",
    "!{sys.executable} -m pip install caserecommender"
   ]
  },
  {
   "cell_type": "code",
   "execution_count": null,
   "metadata": {
    "executionInfo": {
     "elapsed": 26,
     "status": "ok",
     "timestamp": 1651265264070,
     "user": {
      "displayName": "Marcelo Manzato",
      "userId": "04825752819034907940"
     },
     "user_tz": 180
    },
    "id": "MqgnlqsLp2QP"
   },
   "outputs": [],
   "source": [
    "import pandas as pd\n",
    "import numpy as np\n",
    "import math"
   ]
  },
  {
   "cell_type": "markdown",
   "metadata": {
    "id": "LQODRAP5p2QY"
   },
   "source": [
    "### Explorar Dados"
   ]
  },
  {
   "cell_type": "code",
   "execution_count": null,
   "metadata": {
    "colab": {
     "base_uri": "https://localhost:8080/",
     "height": 206
    },
    "executionInfo": {
     "elapsed": 14,
     "status": "ok",
     "timestamp": 1651265269193,
     "user": {
      "displayName": "Marcelo Manzato",
      "userId": "04825752819034907940"
     },
     "user_tz": 180
    },
    "id": "vraDuP8Hp2QZ",
    "outputId": "b4070cdf-edfc-42b0-be21-d9056d125f36"
   },
   "outputs": [],
   "source": [
    "movies = pd.read_csv('./dataset/movies_sample.csv')\n",
    "movies.tail()"
   ]
  },
  {
   "cell_type": "code",
   "execution_count": null,
   "metadata": {
    "colab": {
     "base_uri": "https://localhost:8080/",
     "height": 206
    },
    "executionInfo": {
     "elapsed": 463,
     "status": "ok",
     "timestamp": 1651265273880,
     "user": {
      "displayName": "Marcelo Manzato",
      "userId": "04825752819034907940"
     },
     "user_tz": 180
    },
    "id": "Y3GWuHwSp2Qg",
    "outputId": "732f7d86-6431-4ea3-f4ea-5d74dffc313e"
   },
   "outputs": [],
   "source": [
    "ratings = pd.read_csv('./dataset/ratings_sample.csv')\n",
    "ratings.head()"
   ]
  },
  {
   "cell_type": "code",
   "execution_count": null,
   "metadata": {
    "colab": {
     "base_uri": "https://localhost:8080/",
     "height": 271
    },
    "executionInfo": {
     "elapsed": 497,
     "status": "ok",
     "timestamp": 1651262423975,
     "user": {
      "displayName": "Marcelo Manzato",
      "userId": "04825752819034907940"
     },
     "user_tz": 180
    },
    "id": "QdmnQ42Ep2Ql",
    "outputId": "6c629ef0-6232-4112-c575-4b38ed769372"
   },
   "outputs": [],
   "source": [
    "import matplotlib.pyplot as plt\n",
    "ratings.rating.value_counts().plot(kind='bar', color=['r', 'g', 'y', 'c', 'b']);\n",
    "plt.show()"
   ]
  },
  {
   "cell_type": "code",
   "execution_count": null,
   "metadata": {
    "colab": {
     "base_uri": "https://localhost:8080/",
     "height": 206
    },
    "executionInfo": {
     "elapsed": 1669,
     "status": "ok",
     "timestamp": 1651265283090,
     "user": {
      "displayName": "Marcelo Manzato",
      "userId": "04825752819034907940"
     },
     "user_tz": 180
    },
    "id": "1VK8tadsp2Qp",
    "outputId": "63852d92-1b62-4f8a-a6e8-975c2f724a57"
   },
   "outputs": [],
   "source": [
    "df = ratings[['userId', 'movieId', 'rating']]\n",
    "df.tail()"
   ]
  },
  {
   "cell_type": "code",
   "execution_count": null,
   "metadata": {
    "colab": {
     "base_uri": "https://localhost:8080/",
     "height": 206
    },
    "executionInfo": {
     "elapsed": 523,
     "status": "ok",
     "timestamp": 1651265294728,
     "user": {
      "displayName": "Marcelo Manzato",
      "userId": "04825752819034907940"
     },
     "user_tz": 180
    },
    "id": "qmfmBkdep2Qs",
    "outputId": "bc56067b-e248-4ee3-e286-9cf831a6ce1c"
   },
   "outputs": [],
   "source": [
    "df = df.merge(movies[['movieId', 'title']])\n",
    "df.head()"
   ]
  },
  {
   "cell_type": "markdown",
   "metadata": {
    "id": "vkgi6EY8p2Q0"
   },
   "source": [
    "### Números de usuários e número de itens"
   ]
  },
  {
   "cell_type": "code",
   "execution_count": null,
   "metadata": {
    "colab": {
     "base_uri": "https://localhost:8080/"
    },
    "executionInfo": {
     "elapsed": 582,
     "status": "ok",
     "timestamp": 1651262596720,
     "user": {
      "displayName": "Marcelo Manzato",
      "userId": "04825752819034907940"
     },
     "user_tz": 180
    },
    "id": "Oqm9TqFUp2Q0",
    "outputId": "b79494d4-37e4-43fa-de7e-9bf123c17fec"
   },
   "outputs": [],
   "source": [
    "print(\n",
    "\"\"\"\n",
    "Número de usuários: {}\n",
    "Número de itens: {}\n",
    "Número de interações: {}\n",
    "\"\"\".format(\n",
    "    df.userId.nunique(),\n",
    "    df.movieId.nunique(),\n",
    "    df.shape[0]\n",
    ")\n",
    ")"
   ]
  },
  {
   "cell_type": "markdown",
   "metadata": {
    "id": "9oUxIUefp2Q4"
   },
   "source": [
    "### Mapeamento em idx"
   ]
  },
  {
   "cell_type": "code",
   "execution_count": null,
   "metadata": {
    "executionInfo": {
     "elapsed": 307,
     "status": "ok",
     "timestamp": 1651265300657,
     "user": {
      "displayName": "Marcelo Manzato",
      "userId": "04825752819034907940"
     },
     "user_tz": 180
    },
    "id": "_xDUH3kbp2Q4"
   },
   "outputs": [],
   "source": [
    "map_users = {user: idx for idx, user in enumerate(df.userId.unique())}\n",
    "map_items = {item: idx for idx, item in enumerate(df.movieId.unique())}"
   ]
  },
  {
   "cell_type": "code",
   "execution_count": null,
   "metadata": {
    "colab": {
     "base_uri": "https://localhost:8080/",
     "height": 206
    },
    "executionInfo": {
     "elapsed": 10,
     "status": "ok",
     "timestamp": 1651265302515,
     "user": {
      "displayName": "Marcelo Manzato",
      "userId": "04825752819034907940"
     },
     "user_tz": 180
    },
    "id": "kqkGY2php2Q8",
    "outputId": "864b78bd-cf41-415f-a0aa-7199a9439616"
   },
   "outputs": [],
   "source": [
    "df['userId'] = df['userId'].map(map_users)\n",
    "df['movieId'] = df['movieId'].map(map_items)\n",
    "df.head()"
   ]
  },
  {
   "cell_type": "code",
   "execution_count": null,
   "metadata": {
    "executionInfo": {
     "elapsed": 12498,
     "status": "ok",
     "timestamp": 1651265319355,
     "user": {
      "displayName": "Marcelo Manzato",
      "userId": "04825752819034907940"
     },
     "user_tz": 180
    },
    "id": "StWvDa5Gp2Q_"
   },
   "outputs": [],
   "source": [
    "map_title = {}\n",
    "\n",
    "for _, row in df.iterrows():\n",
    "    map_title[row.movieId] = row.title\n",
    "\n",
    "map_title"
   ]
  },
  {
   "cell_type": "code",
   "execution_count": null,
   "metadata": {
    "colab": {
     "base_uri": "https://localhost:8080/"
    },
    "executionInfo": {
     "elapsed": 6819,
     "status": "ok",
     "timestamp": 1651262789120,
     "user": {
      "displayName": "Marcelo Manzato",
      "userId": "04825752819034907940"
     },
     "user_tz": 180
    },
    "id": "XLTWg-F9p2RD",
    "outputId": "91b07036-55df-40d1-a532-e341b0d869c1"
   },
   "outputs": [],
   "source": [
    "print(len(map_title))\n",
    "print(map_title[100])"
   ]
  },
  {
   "cell_type": "code",
   "execution_count": null,
   "metadata": {
    "colab": {
     "base_uri": "https://localhost:8080/",
     "height": 455
    },
    "executionInfo": {
     "elapsed": 642,
     "status": "ok",
     "timestamp": 1651262829829,
     "user": {
      "displayName": "Marcelo Manzato",
      "userId": "04825752819034907940"
     },
     "user_tz": 180
    },
    "id": "35C82h7op2RH",
    "outputId": "3fd426c1-238b-45b9-ebfe-00a5b16d008a"
   },
   "outputs": [],
   "source": [
    "# qtd interações dos usuários\n",
    "df.groupby('userId').count()"
   ]
  },
  {
   "cell_type": "markdown",
   "metadata": {
    "id": "x8Ln0a1vp2RL"
   },
   "source": [
    "### Divisão do dataset"
   ]
  },
  {
   "cell_type": "code",
   "execution_count": null,
   "metadata": {
    "executionInfo": {
     "elapsed": 878,
     "status": "ok",
     "timestamp": 1651265328100,
     "user": {
      "displayName": "Marcelo Manzato",
      "userId": "04825752819034907940"
     },
     "user_tz": 180
    },
    "id": "9MsDESQ_p2RM"
   },
   "outputs": [],
   "source": [
    "from sklearn.model_selection import train_test_split\n",
    "train, test = train_test_split(df, test_size=.2, random_state=2)\n",
    "train.to_csv('train.txt', index=False, header=False, sep='\\t')\n",
    "test.to_csv('test.txt', index=False, header=False, sep='\\t')"
   ]
  },
  {
   "cell_type": "code",
   "execution_count": null,
   "metadata": {
    "colab": {
     "base_uri": "https://localhost:8080/"
    },
    "executionInfo": {
     "elapsed": 744,
     "status": "ok",
     "timestamp": 1651262977544,
     "user": {
      "displayName": "Marcelo Manzato",
      "userId": "04825752819034907940"
     },
     "user_tz": 180
    },
    "id": "n6HTzcwsp2RX",
    "outputId": "831acd8f-11dc-4864-ce08-a8a4fa05daa5"
   },
   "outputs": [],
   "source": [
    "! ls -l"
   ]
  },
  {
   "cell_type": "code",
   "execution_count": null,
   "metadata": {
    "colab": {
     "base_uri": "https://localhost:8080/"
    },
    "executionInfo": {
     "elapsed": 689,
     "status": "ok",
     "timestamp": 1651262986486,
     "user": {
      "displayName": "Marcelo Manzato",
      "userId": "04825752819034907940"
     },
     "user_tz": 180
    },
    "id": "RFZhUjCnp2Rb",
    "outputId": "cdcd5ef0-bc8f-436f-9f20-ab7f5269ba45"
   },
   "outputs": [],
   "source": [
    "print('No. items: ' + str(train['movieId'].nunique()))\n",
    "print('No. users: ' + str(train['userId'].nunique()))"
   ]
  },
  {
   "cell_type": "markdown",
   "metadata": {
    "id": "VVWZRptBp2Re"
   },
   "source": [
    "### Recomendadores"
   ]
  },
  {
   "cell_type": "markdown",
   "metadata": {
    "id": "ajH3hUALp2Re"
   },
   "source": [
    "## Prever notas"
   ]
  },
  {
   "cell_type": "code",
   "execution_count": null,
   "metadata": {
    "executionInfo": {
     "elapsed": 56,
     "status": "ok",
     "timestamp": 1651263041227,
     "user": {
      "displayName": "Marcelo Manzato",
      "userId": "04825752819034907940"
     },
     "user_tz": 180
    },
    "id": "foa1ePfOp2Rf"
   },
   "outputs": [],
   "source": [
    "from caserec.recommenders.rating_prediction.most_popular import MostPopular"
   ]
  },
  {
   "cell_type": "code",
   "execution_count": null,
   "metadata": {
    "colab": {
     "base_uri": "https://localhost:8080/"
    },
    "executionInfo": {
     "elapsed": 74143,
     "status": "ok",
     "timestamp": 1651263246545,
     "user": {
      "displayName": "Marcelo Manzato",
      "userId": "04825752819034907940"
     },
     "user_tz": 180
    },
    "id": "2ud84_kMp2Rh",
    "outputId": "17aaee62-e965-4a33-875f-51aa9432a3eb"
   },
   "outputs": [],
   "source": [
    "MostPopular('train.txt', 'test.txt', 'out_mp_pred.txt').compute()"
   ]
  },
  {
   "cell_type": "code",
   "execution_count": null,
   "metadata": {
    "colab": {
     "base_uri": "https://localhost:8080/",
     "height": 206
    },
    "executionInfo": {
     "elapsed": 2096,
     "status": "ok",
     "timestamp": 1651263311989,
     "user": {
      "displayName": "Marcelo Manzato",
      "userId": "04825752819034907940"
     },
     "user_tz": 180
    },
    "id": "wESMpB0kp2Rk",
    "outputId": "847827ef-03a9-45dc-cc48-d5ad72bc3e79"
   },
   "outputs": [],
   "source": [
    "df_pred = pd.read_csv('out_mp_pred.txt', sep='\\t', names=['userId', 'movieId', 'pred'])\n",
    "df_pred.head(10)"
   ]
  },
  {
   "cell_type": "code",
   "execution_count": null,
   "metadata": {
    "colab": {
     "base_uri": "https://localhost:8080/",
     "height": 112
    },
    "executionInfo": {
     "elapsed": 461,
     "status": "ok",
     "timestamp": 1651263359987,
     "user": {
      "displayName": "Marcelo Manzato",
      "userId": "04825752819034907940"
     },
     "user_tz": 180
    },
    "id": "aGUl8yVyp2Rn",
    "outputId": "9c0ba999-c3ee-403d-e956-515619cc7f5b"
   },
   "outputs": [],
   "source": [
    "test[test.userId == 1]"
   ]
  },
  {
   "cell_type": "code",
   "execution_count": null,
   "metadata": {
    "executionInfo": {
     "elapsed": 665,
     "status": "ok",
     "timestamp": 1651263424777,
     "user": {
      "displayName": "Marcelo Manzato",
      "userId": "04825752819034907940"
     },
     "user_tz": 180
    },
    "id": "x-VuIIi3p2Rp"
   },
   "outputs": [],
   "source": [
    "df_pred = df_pred.merge(test)"
   ]
  },
  {
   "cell_type": "code",
   "execution_count": null,
   "metadata": {
    "colab": {
     "base_uri": "https://localhost:8080/",
     "height": 289
    },
    "executionInfo": {
     "elapsed": 922,
     "status": "ok",
     "timestamp": 1651263432823,
     "user": {
      "displayName": "Marcelo Manzato",
      "userId": "04825752819034907940"
     },
     "user_tz": 180
    },
    "id": "PNYXk7pfp2Rs",
    "outputId": "81838e01-e340-47fe-c513-00eefb0fd778"
   },
   "outputs": [],
   "source": [
    "df_pred.rating.value_counts().plot(kind='bar')\n",
    "plt.show()"
   ]
  },
  {
   "cell_type": "code",
   "execution_count": null,
   "metadata": {
    "colab": {
     "base_uri": "https://localhost:8080/",
     "height": 271
    },
    "executionInfo": {
     "elapsed": 664,
     "status": "ok",
     "timestamp": 1651263494984,
     "user": {
      "displayName": "Marcelo Manzato",
      "userId": "04825752819034907940"
     },
     "user_tz": 180
    },
    "id": "WCQJA5q8p2Rv",
    "outputId": "d645310b-f083-441a-a09b-9e74de1df795"
   },
   "outputs": [],
   "source": [
    "df_pred['pred'] = round(df_pred['pred']*2)/2\n",
    "df_pred.pred.value_counts().plot(kind='bar');\n",
    "plt.show()"
   ]
  },
  {
   "cell_type": "markdown",
   "metadata": {
    "id": "PwB7U14up2Ry"
   },
   "source": [
    "### Top N"
   ]
  },
  {
   "cell_type": "code",
   "execution_count": null,
   "metadata": {
    "executionInfo": {
     "elapsed": 285,
     "status": "ok",
     "timestamp": 1651265412256,
     "user": {
      "displayName": "Marcelo Manzato",
      "userId": "04825752819034907940"
     },
     "user_tz": 180
    },
    "id": "uOuJBF2lp2Rz"
   },
   "outputs": [],
   "source": [
    "from caserec.recommenders.item_recommendation.most_popular import MostPopular as MPR"
   ]
  },
  {
   "cell_type": "code",
   "execution_count": null,
   "metadata": {
    "colab": {
     "base_uri": "https://localhost:8080/"
    },
    "executionInfo": {
     "elapsed": 7097,
     "status": "ok",
     "timestamp": 1651265426652,
     "user": {
      "displayName": "Marcelo Manzato",
      "userId": "04825752819034907940"
     },
     "user_tz": 180
    },
    "id": "3-ir7MKYp2R4",
    "outputId": "66ee974f-4661-4728-ff8f-4d04534101e3"
   },
   "outputs": [],
   "source": [
    "MPR('train.txt', 'test.txt', 'out_mp_pred_binary.txt', as_binary=True).compute()"
   ]
  },
  {
   "cell_type": "code",
   "execution_count": null,
   "metadata": {},
   "outputs": [],
   "source": [
    "ranking = pd.read_csv('out_mp_pred_binary.txt', sep='\\t', names=['userId', 'movieId', 'score'])\n",
    "ranking['title'] = ranking.movieId.map(map_title)\n",
    "ranking.head(15)"
   ]
  },
  {
   "cell_type": "markdown",
   "metadata": {},
   "source": [
    "### Item KNN"
   ]
  },
  {
   "cell_type": "code",
   "execution_count": null,
   "metadata": {},
   "outputs": [],
   "source": [
    "from caserec.recommenders.rating_prediction.itemknn import ItemKNN\n",
    "\n",
    "ItemKNN('train.txt', 'test.txt', 'rp_iknn.txt', as_similar_first=True).compute()"
   ]
  },
  {
   "cell_type": "markdown",
   "metadata": {},
   "source": [
    "## Exercises"
   ]
  },
  {
   "cell_type": "code",
   "execution_count": null,
   "metadata": {},
   "outputs": [],
   "source": [
    "# Answers. A dictionary created to hold the answers of the questions.\n",
    "answers : dict[str, any] = dict()\n",
    "\n",
    "# Auxiliar. A dictionary created to hold auxiliar variables, used to answer the questions.\n",
    "aux : dict[str, any] = dict()"
   ]
  },
  {
   "cell_type": "markdown",
   "metadata": {},
   "source": [
    "**Exercício 01:**\n",
    "\n",
    "a) Encontrar o id do usuário que avaliou mais filmes na base. Informe o id externo (da base dados) e o interno (usado pelo recomendador)"
   ]
  },
  {
   "cell_type": "code",
   "execution_count": null,
   "metadata": {},
   "outputs": [],
   "source": [
    "answers['01-a'] = {'external-id': ratings['userId'].mode()[0]}\n",
    "answers['01-a']['internal-id'] = map_users[answers['01-a']['external-id']]\n",
    "    \n",
    "print(f'01.a) External ID: {answers[\"01-a\"][\"external-id\"]}')\n",
    "print(f'01.a) Internal ID: {answers[\"01-a\"][\"internal-id\"]}')"
   ]
  },
  {
   "cell_type": "markdown",
   "metadata": {},
   "source": [
    "b) Encontrar os 5 primeiros usuários que têm maior propensão a dar notas baixas aos filmes (use a média de ratings para isso)."
   ]
  },
  {
   "cell_type": "markdown",
   "metadata": {},
   "source": [
    "**Note: using only internal id from here onwards.**"
   ]
  },
  {
   "cell_type": "code",
   "execution_count": null,
   "metadata": {},
   "outputs": [],
   "source": [
    "answers['01-b'] = (ratings\n",
    "        .groupby('userId')['rating'] # Grouping by user and selecting the rating column\n",
    "        .mean() # Calculating the mean\n",
    "        .sort_values(ascending=True)[0:5] # Sorting and getting the first 5\n",
    "        .index # Getting the ids\n",
    "        .tolist() # Transforming to list\n",
    ")\n",
    "\n",
    "print(f'01.b) {answers[\"01-b\"]}')"
   ]
  },
  {
   "cell_type": "markdown",
   "metadata": {},
   "source": [
    "c) Encontrar os 5 filmes pior avaliados pelos usuários."
   ]
  },
  {
   "cell_type": "code",
   "execution_count": null,
   "metadata": {},
   "outputs": [],
   "source": [
    "answers['01-c'] = (ratings\n",
    "        .groupby('movieId')['rating'] # Grouping by user and selecting the rating column\n",
    "        .mean() # Calculating the mean\n",
    "        .sort_values(ascending=True)[0:5] # Sorting and getting the first 5\n",
    "        .index # Getting the ids\n",
    "        .tolist() # Transforming to list\n",
    ")\n",
    "\n",
    "print(f'01.c) {answers[\"01-c\"]}')"
   ]
  },
  {
   "cell_type": "markdown",
   "metadata": {},
   "source": [
    "**Exercício 02:** Na aula vimos uma abordagem de recomendação não personalizada que utiliza a quantidade de interações dos itens para recomendar filmes mais populares aos usuários. Quando há feedback explícito, entretanto, a mesma abordagem \"Most Popular\" pode fazer uso da média das notas disponíveis, ou seja, recomendam-se os N filmes mais bem avaliados a cada usuário. Desse modo, calcule a recomendação de 5 filmes para um usuário qualquer da base considerando essa estratégia não personalizada. Utilize a base toda como conjunto de treinamento."
   ]
  },
  {
   "cell_type": "code",
   "execution_count": null,
   "metadata": {},
   "outputs": [],
   "source": [
    "# Creating the dataframe with the mean of the ratings\n",
    "aux['02-df'] = df.groupby('movieId')['rating'].mean()\n",
    "\n",
    "aux['02-df'] = pd.DataFrame({\n",
    "    'movieId': aux['02-df'].index,\n",
    "    'ratings': aux['02-df'].values\n",
    "}).sort_values(by='ratings', ascending=False)\n",
    "\n",
    "aux['02-df']['title'] = aux['02-df']['movieId'].map(map_title)\n",
    "\n",
    "aux['02-df'].head(5)"
   ]
  },
  {
   "cell_type": "markdown",
   "metadata": {},
   "source": [
    "**Exercício 03:** Com base no código disponível no notebook \"Aula01_Exemplos.ipynb\", implemente uma função que retorna os k filmes mais similares a um outro qualquer passado como parâmetro. "
   ]
  },
  {
   "cell_type": "code",
   "execution_count": null,
   "metadata": {},
   "outputs": [],
   "source": [
    "# Gives a list of all users who have rated a particular item.\n",
    "def get_users_ids(movieId : int) -> list[int]:\n",
    "    if movieId not in df['movieId'].values:\n",
    "        return []\n",
    "    return df[df['movieId'] == movieId]['userId'].tolist()\n",
    "\n",
    "# Example\n",
    "get_users_ids(1)[:5]"
   ]
  },
  {
   "cell_type": "code",
   "execution_count": null,
   "metadata": {},
   "outputs": [],
   "source": [
    "def get_movie_mean(movieId : int) -> float:\n",
    "    return df[df['movieId'] == movieId]['rating'].mean()\n",
    "\n",
    "# Example\n",
    "get_movie_mean(1)"
   ]
  },
  {
   "cell_type": "code",
   "execution_count": null,
   "metadata": {},
   "outputs": [],
   "source": [
    "# Get the rating of a user for a specific item\n",
    "def get_rating(userId : int, itemId : int) -> float:\n",
    "    __ratings = df[(df['userId'] == userId) & (df['movieId'] == itemId)]\n",
    "    return 0 if __ratings.empty else __ratings['rating'].values[0]\n",
    "\n",
    "# Example\n",
    "get_rating(0, 1)"
   ]
  },
  {
   "cell_type": "code",
   "execution_count": null,
   "metadata": {},
   "outputs": [],
   "source": [
    "def movie_sim_score(movieId1 : int, movieId2 : int) -> float:\n",
    "    '''\n",
    "    userId1 & userId2 : ids dos dois usuários cuja similaridade será computada\n",
    "    '''\n",
    "\n",
    "    # First, we look for the users who have rated both items.\n",
    "    user_list1 = get_users_ids(movieId1) # who rated movieId1?\n",
    "    user_list2 = get_users_ids(movieId2) # who rated movieId2?\n",
    "\n",
    "    common_users = list(set(user_list1) & set(user_list2)) # who rated both?\n",
    "\n",
    "    # TRIVIAL CASE:\n",
    "    #  If no one rated both items, the similarity is 0.\n",
    "    if len(common_users) == 0: return 0\n",
    "    \n",
    "    # HARD CASE: \n",
    "    #  if there are common items, we continue the calculation.\n",
    "    \n",
    "    # Now, we calculate the mean rating for each item.\n",
    "    movie1_mean = get_movie_mean(movieId1)\n",
    "    movie2_mean = get_movie_mean(movieId2)\n",
    "    \n",
    "    # Now, e calculate the similarity.\n",
    "    sim : list[float] = [] # list to hold the similarity values\n",
    "    norm1 = [] # list to hold the norm values for item 1\n",
    "    norm2 = [] # list to hold the norm values for item 2\n",
    "    for user in common_users: # iterate over the common items\n",
    "        # Get the rating for this user for each item\n",
    "        rating1 = get_rating(user, movieId1)\n",
    "        rating2 = get_rating(user, movieId2)\n",
    "\n",
    "        # Calculate a similarity value for this user and append it to the list\n",
    "        sim.append(  (rating1 - movie1_mean) * (rating2 - movie2_mean)  )\n",
    "\n",
    "        # Calculate the norm values for each item\n",
    "        norm1.append(  math.pow(rating1 - movie1_mean, 2)  )\n",
    "        norm2.append(  math.pow(rating2 - movie2_mean, 2)  )\n",
    "    \n",
    "    \n",
    "    try:\n",
    "        # Calculate the final similarity score and return it\n",
    "        a = float(sum(sim))\n",
    "        b = float(math.sqrt(sum(norm1)) * math.sqrt(sum(norm2)))\n",
    "        return a / b\n",
    "    except:\n",
    "        return float('nan')\n",
    "\n",
    "movie_sim_score(0, 4)"
   ]
  },
  {
   "cell_type": "code",
   "execution_count": null,
   "metadata": {},
   "outputs": [],
   "source": [
    "def most_similar_movies(movieId : int, k : int | None = None) -> list[tuple[float, int]]:\n",
    "    '''\n",
    "    userId : Targeted User\n",
    "    k : qtde de vizinhos\n",
    "    '''\n",
    "\n",
    "    # Get a list of all movie ids exept the target movie\n",
    "    movies_ids = df[df['movieId'] != movieId]['movieId'].unique()\n",
    "    \n",
    "    # Getting a list of similarity scores for each movie\n",
    "    # Note: Here we store the tuples (similarity, movieId)\n",
    "    sim = [(movie_sim_score(movieId, m), m) for m in movies_ids]\n",
    "    \n",
    "    # Sorting the list of similarities in descending order\n",
    "    sim.sort(reverse=True)\n",
    "    \n",
    "    # Returning the k most similar items\n",
    "    return sim if k is None else sim[:k]\n",
    "\n",
    "\n",
    "\n",
    "# Example\n",
    "most_similar_movies(0, 3)"
   ]
  },
  {
   "cell_type": "code",
   "execution_count": null,
   "metadata": {},
   "outputs": [],
   "source": [
    "#saving the df userID, movieID and rating to a csv\n",
    "df[['userId', 'movieId', 'rating']].to_csv('ratings-exercicios.csv', index=False)"
   ]
  },
  {
   "cell_type": "code",
   "execution_count": null,
   "metadata": {},
   "outputs": [],
   "source": [
    "movie_sim_score(0, 4)"
   ]
  },
  {
   "cell_type": "code",
   "execution_count": null,
   "metadata": {},
   "outputs": [],
   "source": [
    "# Getting a matrix of similarityes of every user\n",
    "import numpy as np\n",
    "\n",
    "# Assuming df contains the movie IDs and similarity scores\n",
    "movie_ids = df['movieId'].unique().tolist()\n",
    "movie_ids.sort()\n",
    "num_movies = len(movie_ids)\n",
    "\n",
    "# Initialize an empty similarity matrix\n",
    "similarity_matrix = np.zeros((num_movies, num_movies))"
   ]
  },
  {
   "cell_type": "code",
   "execution_count": 42,
   "metadata": {},
   "outputs": [],
   "source": [
    "# Calculate the similarity between all pairs of movies\n",
    "for i in range(num_movies):\n",
    "    for j in range(i):\n",
    "        if i != j:\n",
    "            similarity_matrix[i, j] = movie_sim_score(movie_ids[i], movie_ids[j])\n",
    "\n",
    "# The resulting similarity_matrix will have the similarities between all movies\n",
    "similarity_matrix"
   ]
  },
  {
   "cell_type": "code",
   "execution_count": null,
   "metadata": {},
   "outputs": [],
   "source": [
    "similarity_matrix_v2 = [\n",
    "    [movie_sim_score(i, j) for j in i]\n",
    "    for i in movie_ids\n",
    "]\n",
    "\n",
    "similarity_matrix_v2"
   ]
  }
 ],
 "metadata": {
  "colab": {
   "collapsed_sections": [],
   "machine_shape": "hm",
   "name": "Recomendação Não Personalizada.ipynb",
   "provenance": []
  },
  "kernelspec": {
   "display_name": "Python 3",
   "language": "python",
   "name": "python3"
  },
  "language_info": {
   "codemirror_mode": {
    "name": "ipython",
    "version": 3
   },
   "file_extension": ".py",
   "mimetype": "text/x-python",
   "name": "python",
   "nbconvert_exporter": "python",
   "pygments_lexer": "ipython3",
   "version": "3.10.12"
  }
 },
 "nbformat": 4,
 "nbformat_minor": 1
}
