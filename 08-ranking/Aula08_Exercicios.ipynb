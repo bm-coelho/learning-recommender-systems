{
 "cells": [
  {
   "cell_type": "markdown",
   "id": "073a99cf",
   "metadata": {},
   "source": [
    "# Aula 08 - Aprendendo a Ranquear - Exercícios"
   ]
  },
  {
   "cell_type": "code",
   "execution_count": 1,
   "id": "cb54a360",
   "metadata": {},
   "outputs": [],
   "source": [
    "import pandas as pd\n",
    "import numpy as np\n",
    "import random"
   ]
  },
  {
   "cell_type": "markdown",
   "id": "04d68a02",
   "metadata": {},
   "source": [
    "### Importar base de dados"
   ]
  },
  {
   "cell_type": "code",
   "execution_count": 2,
   "id": "23c1ebaa",
   "metadata": {},
   "outputs": [
    {
     "name": "stdout",
     "output_type": "stream",
     "text": [
      "100% [....................................................] 65019041 / 65019041\n",
      "Saved under ml-20m-compact.tar (2).gz\n",
      "dataset/\n",
      "dataset/tags_sample.csv\n",
      "dataset/._.DS_Store\n",
      "dataset/.DS_Store\n",
      "dataset/movies_sample.csv\n",
      "dataset/._genome-tags.csv\n",
      "dataset/genome-tags.csv\n",
      "dataset/._ml-youtube.csv\n",
      "dataset/ml-youtube.csv\n",
      "dataset/._genome-scores.csv\n",
      "dataset/genome-scores.csv\n",
      "dataset/ratings_sample.csv\n"
     ]
    }
   ],
   "source": [
    "import wget\n",
    "!python3 -m wget https://github.com/mmanzato/MBABigData/raw/master/ml-20m-compact.tar.gz\n",
    "!tar -xvzf ml-20m-compact.tar.gz"
   ]
  },
  {
   "cell_type": "code",
   "execution_count": 3,
   "id": "b3e3dfb0",
   "metadata": {},
   "outputs": [
    {
     "data": {
      "text/html": [
       "<div>\n",
       "<style scoped>\n",
       "    .dataframe tbody tr th:only-of-type {\n",
       "        vertical-align: middle;\n",
       "    }\n",
       "\n",
       "    .dataframe tbody tr th {\n",
       "        vertical-align: top;\n",
       "    }\n",
       "\n",
       "    .dataframe thead th {\n",
       "        text-align: right;\n",
       "    }\n",
       "</style>\n",
       "<table border=\"1\" class=\"dataframe\">\n",
       "  <thead>\n",
       "    <tr style=\"text-align: right;\">\n",
       "      <th></th>\n",
       "      <th>userId</th>\n",
       "      <th>itemId</th>\n",
       "      <th>rating</th>\n",
       "      <th>title</th>\n",
       "    </tr>\n",
       "  </thead>\n",
       "  <tbody>\n",
       "    <tr>\n",
       "      <th>0</th>\n",
       "      <td>11</td>\n",
       "      <td>7481</td>\n",
       "      <td>5.0</td>\n",
       "      <td>Enemy Mine (1985)</td>\n",
       "    </tr>\n",
       "    <tr>\n",
       "      <th>1</th>\n",
       "      <td>11</td>\n",
       "      <td>1046</td>\n",
       "      <td>4.5</td>\n",
       "      <td>Beautiful Thing (1996)</td>\n",
       "    </tr>\n",
       "    <tr>\n",
       "      <th>2</th>\n",
       "      <td>11</td>\n",
       "      <td>616</td>\n",
       "      <td>4.0</td>\n",
       "      <td>Aristocats, The (1970)</td>\n",
       "    </tr>\n",
       "    <tr>\n",
       "      <th>3</th>\n",
       "      <td>11</td>\n",
       "      <td>3535</td>\n",
       "      <td>2.0</td>\n",
       "      <td>American Psycho (2000)</td>\n",
       "    </tr>\n",
       "    <tr>\n",
       "      <th>4</th>\n",
       "      <td>11</td>\n",
       "      <td>5669</td>\n",
       "      <td>5.0</td>\n",
       "      <td>Bowling for Columbine (2002)</td>\n",
       "    </tr>\n",
       "    <tr>\n",
       "      <th>...</th>\n",
       "      <td>...</td>\n",
       "      <td>...</td>\n",
       "      <td>...</td>\n",
       "      <td>...</td>\n",
       "    </tr>\n",
       "    <tr>\n",
       "      <th>190616</th>\n",
       "      <td>138493</td>\n",
       "      <td>288</td>\n",
       "      <td>5.0</td>\n",
       "      <td>Natural Born Killers (1994)</td>\n",
       "    </tr>\n",
       "    <tr>\n",
       "      <th>190617</th>\n",
       "      <td>138493</td>\n",
       "      <td>1748</td>\n",
       "      <td>5.0</td>\n",
       "      <td>Dark City (1998)</td>\n",
       "    </tr>\n",
       "    <tr>\n",
       "      <th>190618</th>\n",
       "      <td>138493</td>\n",
       "      <td>616</td>\n",
       "      <td>4.0</td>\n",
       "      <td>Aristocats, The (1970)</td>\n",
       "    </tr>\n",
       "    <tr>\n",
       "      <th>190619</th>\n",
       "      <td>138493</td>\n",
       "      <td>1597</td>\n",
       "      <td>4.5</td>\n",
       "      <td>Conspiracy Theory (1997)</td>\n",
       "    </tr>\n",
       "    <tr>\n",
       "      <th>190620</th>\n",
       "      <td>138493</td>\n",
       "      <td>7371</td>\n",
       "      <td>5.0</td>\n",
       "      <td>Dogville (2003)</td>\n",
       "    </tr>\n",
       "  </tbody>\n",
       "</table>\n",
       "<p>190621 rows × 4 columns</p>\n",
       "</div>"
      ],
      "text/plain": [
       "        userId  itemId  rating                         title\n",
       "0           11    7481     5.0             Enemy Mine (1985)\n",
       "1           11    1046     4.5        Beautiful Thing (1996)\n",
       "2           11     616     4.0        Aristocats, The (1970)\n",
       "3           11    3535     2.0        American Psycho (2000)\n",
       "4           11    5669     5.0  Bowling for Columbine (2002)\n",
       "...        ...     ...     ...                           ...\n",
       "190616  138493     288     5.0   Natural Born Killers (1994)\n",
       "190617  138493    1748     5.0              Dark City (1998)\n",
       "190618  138493     616     4.0        Aristocats, The (1970)\n",
       "190619  138493    1597     4.5      Conspiracy Theory (1997)\n",
       "190620  138493    7371     5.0               Dogville (2003)\n",
       "\n",
       "[190621 rows x 4 columns]"
      ]
     },
     "execution_count": 3,
     "metadata": {},
     "output_type": "execute_result"
    }
   ],
   "source": [
    "movies = pd.read_csv('./dataset/movies_sample.csv', names=['itemId', 'title', 'genre'], header=0)\n",
    "ratings = pd.read_csv('./dataset/ratings_sample.csv', names=['userId', 'itemId', 'rating', 'timestamp'], header=0)\n",
    "df = ratings[['userId', 'itemId', 'rating']]\n",
    "df = df.merge(movies[['itemId', 'title']])\n",
    "df"
   ]
  },
  {
   "cell_type": "markdown",
   "id": "f6ee831d",
   "metadata": {},
   "source": [
    "### Mapeamento de ids"
   ]
  },
  {
   "cell_type": "code",
   "execution_count": 4,
   "id": "e2964453",
   "metadata": {},
   "outputs": [],
   "source": [
    "map_users = {user: idx for idx, user in enumerate(df.userId.unique())}\n",
    "map_items = {item: idx for idx, item in enumerate(df.itemId.unique())}\n",
    "df['userId'] = df['userId'].map(map_users)\n",
    "df['itemId'] = df['itemId'].map(map_items)\n",
    "map_title = {}\n",
    "\n",
    "for _, row in df.iterrows():\n",
    "    map_title[row.itemId] = row.title\n"
   ]
  },
  {
   "cell_type": "markdown",
   "id": "8811ea00",
   "metadata": {},
   "source": [
    "### Divisão da base em treino e teste"
   ]
  },
  {
   "cell_type": "code",
   "execution_count": 5,
   "id": "79cfefac",
   "metadata": {},
   "outputs": [],
   "source": [
    "from sklearn.model_selection import train_test_split\n",
    "train, test = train_test_split(df, test_size=.2, random_state=2)"
   ]
  },
  {
   "cell_type": "markdown",
   "id": "3da2c3d0",
   "metadata": {},
   "source": [
    "## Questão 01"
   ]
  },
  {
   "cell_type": "markdown",
   "id": "d175451b",
   "metadata": {},
   "source": [
    "***Exercício 01:*** Comparação entre um algoritmo pair-wise e point-wise:\n",
    "- Utilizando o BPR implementado em aula, gere uma lista de 10 recomendações para um determinado usuário da base.\n",
    "- Calcule a precisão média dessas recomendações usando como ground-truth o conjunto de teste. \n",
    "- Utilize o algoritmo MatrixFactorization (SVD otimizado) de predição de notas para prever as notas dos itens que aquele usuário não avaliou ainda. \n",
    "- Ordene inversamente esses itens pela nota predita, e recomende os 10 primeiros filmes.\n",
    "- Calcule a precisão média dessas recomendações e compare o resultado com o resultado obtido pelo BPR. "
   ]
  },
  {
   "cell_type": "markdown",
   "id": "6b0fc74b",
   "metadata": {},
   "source": [
    "### Funções"
   ]
  },
  {
   "cell_type": "code",
   "execution_count": 6,
   "id": "2efd88d4",
   "metadata": {},
   "outputs": [
    {
     "data": {
      "text/plain": [
       "[0, 1, 2, 3, 4, 5, 6, 7, 8, 9, 10, 11, 12]"
      ]
     },
     "execution_count": 6,
     "metadata": {},
     "output_type": "execute_result"
    }
   ],
   "source": [
    "# Obter a lista de todos os itens que um usuário avaliou.\n",
    "def get_item_ids(df, userId):\n",
    "    if userId not in df['userId'].values:\n",
    "        return []\n",
    "    return (df.loc[(df.userId==userId),'itemId'].tolist())\n",
    "\n",
    "get_item_ids(df, 0)"
   ]
  },
  {
   "cell_type": "code",
   "execution_count": 7,
   "id": "a8b5b20d",
   "metadata": {},
   "outputs": [],
   "source": [
    "# Pre-computing observed and unobserved items for each user\n",
    "observed = dict()\n",
    "unobserved = dict()\n",
    "all_users = df['userId'].unique().tolist() # usar conj. total\n",
    "all_items = df['itemId'].unique().tolist() # usar conj. total\n",
    "\n",
    "for u in all_users:\n",
    "    observed[u] = get_item_ids(train, u) # usar conj. de treinamento\n",
    "    unobserved[u] = list(set(all_items)-set(observed[u]))"
   ]
  },
  {
   "cell_type": "code",
   "execution_count": 8,
   "id": "c5e3fa23",
   "metadata": {},
   "outputs": [
    {
     "data": {
      "text/plain": [
       "(28, 32)"
      ]
     },
     "execution_count": 8,
     "metadata": {},
     "output_type": "execute_result"
    }
   ],
   "source": [
    "def draw(userId):    \n",
    "    i = random.choice(observed[userId])\n",
    "    j = random.choice(unobserved[userId])\n",
    "    return i, j\n",
    "\n",
    "draw(2)"
   ]
  },
  {
   "cell_type": "code",
   "execution_count": 9,
   "id": "7798bbf5",
   "metadata": {},
   "outputs": [],
   "source": [
    "def train_bprmf(train, n_factors, lr=0.05, reg=0.02, miter=30, draw=draw):    \n",
    "    n_users = df['userId'].max()+1\n",
    "    n_items = df['itemId'].max()+1    \n",
    "    item_bias = np.zeros(n_items)\n",
    "    p = np.random.normal(0, 0.1, (n_users, n_factors))\n",
    "    q = np.random.normal(0, 0.1, (n_items, n_factors))\n",
    "    \n",
    "    error = []\n",
    "    for t in range(miter):\n",
    "        print('Iter #', t, end='\\r')\n",
    "        sq_error = 0\n",
    "        random_users = random.choices(train['userId'].unique(), k=len(train))\n",
    "        for u in random_users:\n",
    "            i, j = draw(u)\n",
    "            x_uij = item_bias[i] - item_bias[j] + (np.dot(p[u], q[i]) - np.dot(p[u], q[j]))\n",
    "            sq_error += x_uij\n",
    "            \n",
    "            eps = 1 / (1 + np.exp(x_uij))\n",
    "\n",
    "            item_bias[i] += lr * (eps - reg * item_bias[i])\n",
    "            item_bias[j] += lr * (-eps - reg * item_bias[j])            \n",
    "\n",
    "            # Adjust the factors\n",
    "            u_f = p[u]\n",
    "            i_f = q[i]\n",
    "            j_f = q[j]\n",
    "\n",
    "            # Compute and apply factor updates\n",
    "            p[u] += lr * ((i_f - j_f) * eps - reg * u_f)\n",
    "            q[i] += lr * (u_f * eps - reg * i_f)\n",
    "            q[j] += lr * (-u_f * eps - reg * j_f)\n",
    "            \n",
    "        error.append(sq_error/len(random_users))\n",
    "            \n",
    "    return item_bias, p, q, error"
   ]
  },
  {
   "cell_type": "code",
   "execution_count": 10,
   "id": "3f29058c",
   "metadata": {},
   "outputs": [],
   "source": [
    "def predict(b, p, q, n=10):\n",
    "    w = b.T + np.dot(p, q.T)\n",
    "    ranking = []\n",
    "    \n",
    "    for u, user in enumerate(all_users):\n",
    "        partial_ranking = list()\n",
    "        candidate_items = sorted(range(len(w[u])), key=lambda k: w[u][k], reverse=True)\n",
    "        \n",
    "        for i in candidate_items:\n",
    "            if i not in observed[user]:\n",
    "                partial_ranking.append((user, i, w[u][i]))\n",
    "\n",
    "            if len(partial_ranking) == n:\n",
    "                break\n",
    "\n",
    "        ranking += partial_ranking\n",
    "        print('User #', u, end='\\r')\n",
    "        \n",
    "    return pd.DataFrame(ranking, columns=['userId', 'itemId', 'rating'])"
   ]
  },
  {
   "cell_type": "code",
   "execution_count": 11,
   "id": "51b914c8",
   "metadata": {},
   "outputs": [],
   "source": [
    "def precision(pred, test, n=10):\n",
    "    _precisions = dict()\n",
    "    \n",
    "    for u in all_users:\n",
    "        recomended = set(\n",
    "            pred\n",
    "            .loc[pred.userId==u]\n",
    "            .sort_values(by='rating', ascending=False)\n",
    "            .head(n)\n",
    "            .itemId\n",
    "            .tolist()\n",
    "        )\n",
    "        \n",
    "        ground_truth = set(\n",
    "            test\n",
    "            .loc[test.userId==u]\n",
    "            .sort_values(by='rating', ascending=False)\n",
    "            .head(n)\n",
    "            .itemId\n",
    "            .tolist()\n",
    "        )\n",
    "        \n",
    "        if len(ground_truth) == 0:\n",
    "            _precisions[u] = float('nan')\n",
    "        else:\n",
    "            _precisions[u] = len(recomended & ground_truth) / len(ground_truth)\n",
    "        print(f'Progress: {u}/{len(all_users)}', end='\\r')\n",
    "    \n",
    "    return pd.DataFrame(list(_precisions.items()), columns=['userId', 'precision'])"
   ]
  },
  {
   "cell_type": "markdown",
   "id": "e8e59b29",
   "metadata": {},
   "source": [
    "### Execução"
   ]
  },
  {
   "cell_type": "code",
   "execution_count": 12,
   "id": "cfdbb890",
   "metadata": {},
   "outputs": [
    {
     "name": "stdout",
     "output_type": "stream",
     "text": [
      "Iter # 29\r"
     ]
    }
   ],
   "source": [
    "b, p, q, error = train_bprmf(train, 4)"
   ]
  },
  {
   "cell_type": "code",
   "execution_count": 13,
   "id": "7c6c6375",
   "metadata": {},
   "outputs": [
    {
     "name": "stdout",
     "output_type": "stream",
     "text": [
      "User # 11089\r"
     ]
    },
    {
     "data": {
      "text/html": [
       "<div>\n",
       "<style scoped>\n",
       "    .dataframe tbody tr th:only-of-type {\n",
       "        vertical-align: middle;\n",
       "    }\n",
       "\n",
       "    .dataframe tbody tr th {\n",
       "        vertical-align: top;\n",
       "    }\n",
       "\n",
       "    .dataframe thead th {\n",
       "        text-align: right;\n",
       "    }\n",
       "</style>\n",
       "<table border=\"1\" class=\"dataframe\">\n",
       "  <thead>\n",
       "    <tr style=\"text-align: right;\">\n",
       "      <th></th>\n",
       "      <th>userId</th>\n",
       "      <th>itemId</th>\n",
       "      <th>rating</th>\n",
       "    </tr>\n",
       "  </thead>\n",
       "  <tbody>\n",
       "    <tr>\n",
       "      <th>0</th>\n",
       "      <td>0</td>\n",
       "      <td>19</td>\n",
       "      <td>2.249112</td>\n",
       "    </tr>\n",
       "    <tr>\n",
       "      <th>1</th>\n",
       "      <td>0</td>\n",
       "      <td>17</td>\n",
       "      <td>2.009922</td>\n",
       "    </tr>\n",
       "    <tr>\n",
       "      <th>2</th>\n",
       "      <td>0</td>\n",
       "      <td>22</td>\n",
       "      <td>1.944331</td>\n",
       "    </tr>\n",
       "    <tr>\n",
       "      <th>3</th>\n",
       "      <td>0</td>\n",
       "      <td>20</td>\n",
       "      <td>1.854991</td>\n",
       "    </tr>\n",
       "    <tr>\n",
       "      <th>4</th>\n",
       "      <td>0</td>\n",
       "      <td>18</td>\n",
       "      <td>1.826188</td>\n",
       "    </tr>\n",
       "  </tbody>\n",
       "</table>\n",
       "</div>"
      ],
      "text/plain": [
       "   userId  itemId    rating\n",
       "0       0      19  2.249112\n",
       "1       0      17  2.009922\n",
       "2       0      22  1.944331\n",
       "3       0      20  1.854991\n",
       "4       0      18  1.826188"
      ]
     },
     "execution_count": 13,
     "metadata": {},
     "output_type": "execute_result"
    }
   ],
   "source": [
    "pred = predict(b, p, q, n=10)\n",
    "pred.to_csv('precomp/pred.csv', index=False, sep='\\t', header=False)\n",
    "pred.head()"
   ]
  },
  {
   "cell_type": "code",
   "execution_count": 14,
   "id": "7ece1fee",
   "metadata": {},
   "outputs": [
    {
     "name": "stdout",
     "output_type": "stream",
     "text": [
      "Progress: 11089/11090\r"
     ]
    },
    {
     "data": {
      "text/html": [
       "<div>\n",
       "<style scoped>\n",
       "    .dataframe tbody tr th:only-of-type {\n",
       "        vertical-align: middle;\n",
       "    }\n",
       "\n",
       "    .dataframe tbody tr th {\n",
       "        vertical-align: top;\n",
       "    }\n",
       "\n",
       "    .dataframe thead th {\n",
       "        text-align: right;\n",
       "    }\n",
       "</style>\n",
       "<table border=\"1\" class=\"dataframe\">\n",
       "  <thead>\n",
       "    <tr style=\"text-align: right;\">\n",
       "      <th></th>\n",
       "      <th>userId</th>\n",
       "      <th>precision</th>\n",
       "    </tr>\n",
       "  </thead>\n",
       "  <tbody>\n",
       "    <tr>\n",
       "      <th>0</th>\n",
       "      <td>0</td>\n",
       "      <td>0.000000</td>\n",
       "    </tr>\n",
       "    <tr>\n",
       "      <th>1</th>\n",
       "      <td>1</td>\n",
       "      <td>0.666667</td>\n",
       "    </tr>\n",
       "    <tr>\n",
       "      <th>2</th>\n",
       "      <td>2</td>\n",
       "      <td>1.000000</td>\n",
       "    </tr>\n",
       "    <tr>\n",
       "      <th>3</th>\n",
       "      <td>3</td>\n",
       "      <td>0.750000</td>\n",
       "    </tr>\n",
       "    <tr>\n",
       "      <th>4</th>\n",
       "      <td>4</td>\n",
       "      <td>0.000000</td>\n",
       "    </tr>\n",
       "  </tbody>\n",
       "</table>\n",
       "</div>"
      ],
      "text/plain": [
       "   userId  precision\n",
       "0       0   0.000000\n",
       "1       1   0.666667\n",
       "2       2   1.000000\n",
       "3       3   0.750000\n",
       "4       4   0.000000"
      ]
     },
     "execution_count": 14,
     "metadata": {},
     "output_type": "execute_result"
    }
   ],
   "source": [
    "precisions = precision(pred, test, n=10)\n",
    "precisions.head()"
   ]
  },
  {
   "cell_type": "code",
   "execution_count": 15,
   "id": "5f5cfc6b",
   "metadata": {},
   "outputs": [
    {
     "data": {
      "text/plain": [
       "0.51"
      ]
     },
     "execution_count": 15,
     "metadata": {},
     "output_type": "execute_result"
    }
   ],
   "source": [
    "precisions['precision'].dropna().mean().round(2)"
   ]
  },
  {
   "cell_type": "markdown",
   "id": "3fef8d11",
   "metadata": {},
   "source": [
    "### Exemplos"
   ]
  },
  {
   "cell_type": "code",
   "execution_count": 16,
   "id": "3eb87124",
   "metadata": {},
   "outputs": [
    {
     "data": {
      "text/html": [
       "<div>\n",
       "<style scoped>\n",
       "    .dataframe tbody tr th:only-of-type {\n",
       "        vertical-align: middle;\n",
       "    }\n",
       "\n",
       "    .dataframe tbody tr th {\n",
       "        vertical-align: top;\n",
       "    }\n",
       "\n",
       "    .dataframe thead th {\n",
       "        text-align: right;\n",
       "    }\n",
       "</style>\n",
       "<table border=\"1\" class=\"dataframe\">\n",
       "  <thead>\n",
       "    <tr style=\"text-align: right;\">\n",
       "      <th></th>\n",
       "      <th>userId</th>\n",
       "      <th>itemId</th>\n",
       "      <th>rating</th>\n",
       "    </tr>\n",
       "  </thead>\n",
       "  <tbody>\n",
       "    <tr>\n",
       "      <th>22010</th>\n",
       "      <td>2201</td>\n",
       "      <td>12</td>\n",
       "      <td>2.277563</td>\n",
       "    </tr>\n",
       "    <tr>\n",
       "      <th>22011</th>\n",
       "      <td>2201</td>\n",
       "      <td>19</td>\n",
       "      <td>2.258675</td>\n",
       "    </tr>\n",
       "    <tr>\n",
       "      <th>22012</th>\n",
       "      <td>2201</td>\n",
       "      <td>10</td>\n",
       "      <td>2.032094</td>\n",
       "    </tr>\n",
       "    <tr>\n",
       "      <th>22013</th>\n",
       "      <td>2201</td>\n",
       "      <td>17</td>\n",
       "      <td>2.031960</td>\n",
       "    </tr>\n",
       "    <tr>\n",
       "      <th>22014</th>\n",
       "      <td>2201</td>\n",
       "      <td>8</td>\n",
       "      <td>2.008327</td>\n",
       "    </tr>\n",
       "    <tr>\n",
       "      <th>22015</th>\n",
       "      <td>2201</td>\n",
       "      <td>22</td>\n",
       "      <td>1.956937</td>\n",
       "    </tr>\n",
       "    <tr>\n",
       "      <th>22016</th>\n",
       "      <td>2201</td>\n",
       "      <td>20</td>\n",
       "      <td>1.877487</td>\n",
       "    </tr>\n",
       "    <tr>\n",
       "      <th>22017</th>\n",
       "      <td>2201</td>\n",
       "      <td>18</td>\n",
       "      <td>1.841502</td>\n",
       "    </tr>\n",
       "    <tr>\n",
       "      <th>22018</th>\n",
       "      <td>2201</td>\n",
       "      <td>21</td>\n",
       "      <td>1.815213</td>\n",
       "    </tr>\n",
       "    <tr>\n",
       "      <th>22019</th>\n",
       "      <td>2201</td>\n",
       "      <td>14</td>\n",
       "      <td>1.756812</td>\n",
       "    </tr>\n",
       "  </tbody>\n",
       "</table>\n",
       "</div>"
      ],
      "text/plain": [
       "       userId  itemId    rating\n",
       "22010    2201      12  2.277563\n",
       "22011    2201      19  2.258675\n",
       "22012    2201      10  2.032094\n",
       "22013    2201      17  2.031960\n",
       "22014    2201       8  2.008327\n",
       "22015    2201      22  1.956937\n",
       "22016    2201      20  1.877487\n",
       "22017    2201      18  1.841502\n",
       "22018    2201      21  1.815213\n",
       "22019    2201      14  1.756812"
      ]
     },
     "metadata": {},
     "output_type": "display_data"
    },
    {
     "data": {
      "text/html": [
       "<div>\n",
       "<style scoped>\n",
       "    .dataframe tbody tr th:only-of-type {\n",
       "        vertical-align: middle;\n",
       "    }\n",
       "\n",
       "    .dataframe tbody tr th {\n",
       "        vertical-align: top;\n",
       "    }\n",
       "\n",
       "    .dataframe thead th {\n",
       "        text-align: right;\n",
       "    }\n",
       "</style>\n",
       "<table border=\"1\" class=\"dataframe\">\n",
       "  <thead>\n",
       "    <tr style=\"text-align: right;\">\n",
       "      <th></th>\n",
       "      <th>userId</th>\n",
       "      <th>precision</th>\n",
       "    </tr>\n",
       "  </thead>\n",
       "  <tbody>\n",
       "    <tr>\n",
       "      <th>2201</th>\n",
       "      <td>2201</td>\n",
       "      <td>0.666667</td>\n",
       "    </tr>\n",
       "  </tbody>\n",
       "</table>\n",
       "</div>"
      ],
      "text/plain": [
       "      userId  precision\n",
       "2201    2201   0.666667"
      ]
     },
     "metadata": {},
     "output_type": "display_data"
    }
   ],
   "source": [
    "# Random user\n",
    "seed = 1\n",
    "random.seed(seed)\n",
    "user = random.choice(all_users)\n",
    "\n",
    "# Recomend 10 items for the user\n",
    "u_pred = pred.loc[pred.userId==user].sort_values(by='rating', ascending=False).head(10)\n",
    "display(u_pred)\n",
    "\n",
    "# Precision for the user\n",
    "u_precisions = precisions.loc[precisions.userId==user]\n",
    "display(u_precisions)"
   ]
  },
  {
   "cell_type": "markdown",
   "id": "d58d6db5",
   "metadata": {},
   "source": [
    "### Fatorando Matrizes"
   ]
  },
  {
   "cell_type": "code",
   "execution_count": 17,
   "id": "d384636a",
   "metadata": {},
   "outputs": [],
   "source": [
    "! mkdir -p ./precomp"
   ]
  },
  {
   "cell_type": "code",
   "execution_count": 18,
   "id": "aef49332",
   "metadata": {},
   "outputs": [],
   "source": [
    "import itertools as it\n",
    "from caserec.recommenders.rating_prediction.matrixfactorization import MatrixFactorization"
   ]
  },
  {
   "cell_type": "code",
   "execution_count": 19,
   "id": "a0d1a245",
   "metadata": {},
   "outputs": [],
   "source": [
    "test.to_csv('precomp/test.csv', index=False, sep='\\t', header=False)\n",
    "train.to_csv('precomp/train.csv', index=False, sep='\\t', header=False)"
   ]
  },
  {
   "cell_type": "code",
   "execution_count": 20,
   "id": "5b28cf16",
   "metadata": {},
   "outputs": [
    {
     "data": {
      "text/html": [
       "<div>\n",
       "<style scoped>\n",
       "    .dataframe tbody tr th:only-of-type {\n",
       "        vertical-align: middle;\n",
       "    }\n",
       "\n",
       "    .dataframe tbody tr th {\n",
       "        vertical-align: top;\n",
       "    }\n",
       "\n",
       "    .dataframe thead th {\n",
       "        text-align: right;\n",
       "    }\n",
       "</style>\n",
       "<table border=\"1\" class=\"dataframe\">\n",
       "  <thead>\n",
       "    <tr style=\"text-align: right;\">\n",
       "      <th></th>\n",
       "      <th>userId</th>\n",
       "      <th>itemId</th>\n",
       "      <th>rating</th>\n",
       "    </tr>\n",
       "  </thead>\n",
       "  <tbody>\n",
       "    <tr>\n",
       "      <th>0</th>\n",
       "      <td>0</td>\n",
       "      <td>0</td>\n",
       "      <td>0</td>\n",
       "    </tr>\n",
       "    <tr>\n",
       "      <th>1</th>\n",
       "      <td>0</td>\n",
       "      <td>1</td>\n",
       "      <td>0</td>\n",
       "    </tr>\n",
       "    <tr>\n",
       "      <th>2</th>\n",
       "      <td>0</td>\n",
       "      <td>2</td>\n",
       "      <td>0</td>\n",
       "    </tr>\n",
       "    <tr>\n",
       "      <th>3</th>\n",
       "      <td>0</td>\n",
       "      <td>3</td>\n",
       "      <td>0</td>\n",
       "    </tr>\n",
       "    <tr>\n",
       "      <th>4</th>\n",
       "      <td>0</td>\n",
       "      <td>4</td>\n",
       "      <td>0</td>\n",
       "    </tr>\n",
       "  </tbody>\n",
       "</table>\n",
       "</div>"
      ],
      "text/plain": [
       "   userId  itemId  rating\n",
       "0       0       0       0\n",
       "1       0       1       0\n",
       "2       0       2       0\n",
       "3       0       3       0\n",
       "4       0       4       0"
      ]
     },
     "execution_count": 20,
     "metadata": {},
     "output_type": "execute_result"
    }
   ],
   "source": [
    "zero_pd = pd.DataFrame([(u, i, 0) for u, i in it.product(all_users, all_items)], columns=['userId', 'itemId', 'rating'])\n",
    "zero_pd.to_csv('precomp/zero.csv', index=False, sep='\\t', header=False)\n",
    "\n",
    "zero_pd.head()"
   ]
  },
  {
   "cell_type": "code",
   "execution_count": 21,
   "id": "096b7819",
   "metadata": {},
   "outputs": [
    {
     "name": "stdout",
     "output_type": "stream",
     "text": [
      "[Case Recommender: Rating Prediction > Matrix Factorization]\n",
      "\n",
      "train data:: 11090 users and 405 items (152496 interactions) | sparsity:: 96.60%\n",
      "test data:: 11090 users and 417 items (4624530 interactions) | sparsity:: 0.00%\n",
      "\n",
      "training_time:: 27.850868 sec\n",
      "prediction_time:: 8.080057 sec\n",
      "\n",
      "\n",
      "Eval:: MAE: 3.378029 RMSE: 3.405992 \n"
     ]
    }
   ],
   "source": [
    "# Executing the Matrix Factorization algorithm with optimized svd\n",
    "MatrixFactorization(\n",
    "    train_file='precomp/train.csv', \n",
    "    test_file='precomp/zero.csv', \n",
    "    output_file='precomp/mat_pred.csv', \n",
    "    factors=4\n",
    ").compute()"
   ]
  },
  {
   "cell_type": "code",
   "execution_count": 22,
   "id": "41653df8",
   "metadata": {},
   "outputs": [
    {
     "data": {
      "text/html": [
       "<div>\n",
       "<style scoped>\n",
       "    .dataframe tbody tr th:only-of-type {\n",
       "        vertical-align: middle;\n",
       "    }\n",
       "\n",
       "    .dataframe tbody tr th {\n",
       "        vertical-align: top;\n",
       "    }\n",
       "\n",
       "    .dataframe thead th {\n",
       "        text-align: right;\n",
       "    }\n",
       "</style>\n",
       "<table border=\"1\" class=\"dataframe\">\n",
       "  <thead>\n",
       "    <tr style=\"text-align: right;\">\n",
       "      <th></th>\n",
       "      <th>userId</th>\n",
       "      <th>itemId</th>\n",
       "      <th>rating</th>\n",
       "    </tr>\n",
       "  </thead>\n",
       "  <tbody>\n",
       "    <tr>\n",
       "      <th>0</th>\n",
       "      <td>0</td>\n",
       "      <td>0</td>\n",
       "      <td>3.861757</td>\n",
       "    </tr>\n",
       "    <tr>\n",
       "      <th>1</th>\n",
       "      <td>0</td>\n",
       "      <td>1</td>\n",
       "      <td>4.085120</td>\n",
       "    </tr>\n",
       "    <tr>\n",
       "      <th>2</th>\n",
       "      <td>0</td>\n",
       "      <td>2</td>\n",
       "      <td>4.274407</td>\n",
       "    </tr>\n",
       "    <tr>\n",
       "      <th>3</th>\n",
       "      <td>0</td>\n",
       "      <td>3</td>\n",
       "      <td>4.120717</td>\n",
       "    </tr>\n",
       "    <tr>\n",
       "      <th>4</th>\n",
       "      <td>0</td>\n",
       "      <td>4</td>\n",
       "      <td>4.251872</td>\n",
       "    </tr>\n",
       "  </tbody>\n",
       "</table>\n",
       "</div>"
      ],
      "text/plain": [
       "   userId  itemId    rating\n",
       "0       0       0  3.861757\n",
       "1       0       1  4.085120\n",
       "2       0       2  4.274407\n",
       "3       0       3  4.120717\n",
       "4       0       4  4.251872"
      ]
     },
     "execution_count": 22,
     "metadata": {},
     "output_type": "execute_result"
    }
   ],
   "source": [
    "mat_pred = pd.read_csv('precomp/mat_pred.csv', sep='\\t', names=['userId', 'itemId', 'rating'])\n",
    "mat_pred.head()"
   ]
  },
  {
   "cell_type": "code",
   "execution_count": 23,
   "id": "d6aedcb7",
   "metadata": {},
   "outputs": [
    {
     "name": "stdout",
     "output_type": "stream",
     "text": [
      "Progress: 11089/11090\r"
     ]
    },
    {
     "data": {
      "text/html": [
       "<div>\n",
       "<style scoped>\n",
       "    .dataframe tbody tr th:only-of-type {\n",
       "        vertical-align: middle;\n",
       "    }\n",
       "\n",
       "    .dataframe tbody tr th {\n",
       "        vertical-align: top;\n",
       "    }\n",
       "\n",
       "    .dataframe thead th {\n",
       "        text-align: right;\n",
       "    }\n",
       "</style>\n",
       "<table border=\"1\" class=\"dataframe\">\n",
       "  <thead>\n",
       "    <tr style=\"text-align: right;\">\n",
       "      <th></th>\n",
       "      <th>userId</th>\n",
       "      <th>precision</th>\n",
       "    </tr>\n",
       "  </thead>\n",
       "  <tbody>\n",
       "    <tr>\n",
       "      <th>0</th>\n",
       "      <td>0</td>\n",
       "      <td>0.000000</td>\n",
       "    </tr>\n",
       "    <tr>\n",
       "      <th>1</th>\n",
       "      <td>1</td>\n",
       "      <td>0.166667</td>\n",
       "    </tr>\n",
       "    <tr>\n",
       "      <th>2</th>\n",
       "      <td>2</td>\n",
       "      <td>0.000000</td>\n",
       "    </tr>\n",
       "    <tr>\n",
       "      <th>3</th>\n",
       "      <td>3</td>\n",
       "      <td>0.250000</td>\n",
       "    </tr>\n",
       "    <tr>\n",
       "      <th>4</th>\n",
       "      <td>4</td>\n",
       "      <td>0.000000</td>\n",
       "    </tr>\n",
       "  </tbody>\n",
       "</table>\n",
       "</div>"
      ],
      "text/plain": [
       "   userId  precision\n",
       "0       0   0.000000\n",
       "1       1   0.166667\n",
       "2       2   0.000000\n",
       "3       3   0.250000\n",
       "4       4   0.000000"
      ]
     },
     "execution_count": 23,
     "metadata": {},
     "output_type": "execute_result"
    }
   ],
   "source": [
    "mat_precisions = precision(mat_pred, test, n=10)\n",
    "mat_precisions.head()"
   ]
  },
  {
   "cell_type": "code",
   "execution_count": 24,
   "id": "6f3b07ad",
   "metadata": {},
   "outputs": [
    {
     "data": {
      "text/plain": [
       "0.16"
      ]
     },
     "execution_count": 24,
     "metadata": {},
     "output_type": "execute_result"
    }
   ],
   "source": [
    "mat_precisions['precision'].dropna().mean().round(2)"
   ]
  },
  {
   "cell_type": "code",
   "execution_count": 25,
   "id": "aec8ca53",
   "metadata": {},
   "outputs": [
    {
     "data": {
      "text/html": [
       "<div>\n",
       "<style scoped>\n",
       "    .dataframe tbody tr th:only-of-type {\n",
       "        vertical-align: middle;\n",
       "    }\n",
       "\n",
       "    .dataframe tbody tr th {\n",
       "        vertical-align: top;\n",
       "    }\n",
       "\n",
       "    .dataframe thead th {\n",
       "        text-align: right;\n",
       "    }\n",
       "</style>\n",
       "<table border=\"1\" class=\"dataframe\">\n",
       "  <thead>\n",
       "    <tr style=\"text-align: right;\">\n",
       "      <th></th>\n",
       "      <th>userId</th>\n",
       "      <th>bprmf_precision</th>\n",
       "      <th>mf_precision</th>\n",
       "    </tr>\n",
       "  </thead>\n",
       "  <tbody>\n",
       "    <tr>\n",
       "      <th>0</th>\n",
       "      <td>0</td>\n",
       "      <td>0.000000</td>\n",
       "      <td>0.000000</td>\n",
       "    </tr>\n",
       "    <tr>\n",
       "      <th>1</th>\n",
       "      <td>1</td>\n",
       "      <td>0.666667</td>\n",
       "      <td>0.166667</td>\n",
       "    </tr>\n",
       "    <tr>\n",
       "      <th>2</th>\n",
       "      <td>2</td>\n",
       "      <td>1.000000</td>\n",
       "      <td>0.000000</td>\n",
       "    </tr>\n",
       "    <tr>\n",
       "      <th>3</th>\n",
       "      <td>3</td>\n",
       "      <td>0.750000</td>\n",
       "      <td>0.250000</td>\n",
       "    </tr>\n",
       "    <tr>\n",
       "      <th>4</th>\n",
       "      <td>4</td>\n",
       "      <td>0.000000</td>\n",
       "      <td>0.000000</td>\n",
       "    </tr>\n",
       "    <tr>\n",
       "      <th>...</th>\n",
       "      <td>...</td>\n",
       "      <td>...</td>\n",
       "      <td>...</td>\n",
       "    </tr>\n",
       "    <tr>\n",
       "      <th>11085</th>\n",
       "      <td>11085</td>\n",
       "      <td>0.750000</td>\n",
       "      <td>0.250000</td>\n",
       "    </tr>\n",
       "    <tr>\n",
       "      <th>11086</th>\n",
       "      <td>11086</td>\n",
       "      <td>0.500000</td>\n",
       "      <td>0.000000</td>\n",
       "    </tr>\n",
       "    <tr>\n",
       "      <th>11087</th>\n",
       "      <td>11087</td>\n",
       "      <td>0.500000</td>\n",
       "      <td>0.250000</td>\n",
       "    </tr>\n",
       "    <tr>\n",
       "      <th>11088</th>\n",
       "      <td>11088</td>\n",
       "      <td>1.000000</td>\n",
       "      <td>1.000000</td>\n",
       "    </tr>\n",
       "    <tr>\n",
       "      <th>11089</th>\n",
       "      <td>11089</td>\n",
       "      <td>0.750000</td>\n",
       "      <td>0.250000</td>\n",
       "    </tr>\n",
       "  </tbody>\n",
       "</table>\n",
       "<p>11090 rows × 3 columns</p>\n",
       "</div>"
      ],
      "text/plain": [
       "       userId  bprmf_precision  mf_precision\n",
       "0           0         0.000000      0.000000\n",
       "1           1         0.666667      0.166667\n",
       "2           2         1.000000      0.000000\n",
       "3           3         0.750000      0.250000\n",
       "4           4         0.000000      0.000000\n",
       "...       ...              ...           ...\n",
       "11085   11085         0.750000      0.250000\n",
       "11086   11086         0.500000      0.000000\n",
       "11087   11087         0.500000      0.250000\n",
       "11088   11088         1.000000      1.000000\n",
       "11089   11089         0.750000      0.250000\n",
       "\n",
       "[11090 rows x 3 columns]"
      ]
     },
     "execution_count": 25,
     "metadata": {},
     "output_type": "execute_result"
    }
   ],
   "source": [
    "both_precisions = precisions.merge(mat_precisions, on='userId').rename({'precision_x': 'bprmf_precision', 'precision_y': 'mf_precision'}, axis=1)\n",
    "both_precisions"
   ]
  },
  {
   "cell_type": "code",
   "execution_count": 26,
   "id": "0d2d74a3",
   "metadata": {},
   "outputs": [
    {
     "data": {
      "text/html": [
       "<div>\n",
       "<style scoped>\n",
       "    .dataframe tbody tr th:only-of-type {\n",
       "        vertical-align: middle;\n",
       "    }\n",
       "\n",
       "    .dataframe tbody tr th {\n",
       "        vertical-align: top;\n",
       "    }\n",
       "\n",
       "    .dataframe thead th {\n",
       "        text-align: right;\n",
       "    }\n",
       "</style>\n",
       "<table border=\"1\" class=\"dataframe\">\n",
       "  <thead>\n",
       "    <tr style=\"text-align: right;\">\n",
       "      <th></th>\n",
       "      <th>userId</th>\n",
       "      <th>itemId</th>\n",
       "      <th>rating</th>\n",
       "    </tr>\n",
       "  </thead>\n",
       "  <tbody>\n",
       "    <tr>\n",
       "      <th>22010</th>\n",
       "      <td>2201</td>\n",
       "      <td>12</td>\n",
       "      <td>2.277563</td>\n",
       "    </tr>\n",
       "    <tr>\n",
       "      <th>22011</th>\n",
       "      <td>2201</td>\n",
       "      <td>19</td>\n",
       "      <td>2.258675</td>\n",
       "    </tr>\n",
       "    <tr>\n",
       "      <th>22012</th>\n",
       "      <td>2201</td>\n",
       "      <td>10</td>\n",
       "      <td>2.032094</td>\n",
       "    </tr>\n",
       "    <tr>\n",
       "      <th>22013</th>\n",
       "      <td>2201</td>\n",
       "      <td>17</td>\n",
       "      <td>2.031960</td>\n",
       "    </tr>\n",
       "    <tr>\n",
       "      <th>22014</th>\n",
       "      <td>2201</td>\n",
       "      <td>8</td>\n",
       "      <td>2.008327</td>\n",
       "    </tr>\n",
       "    <tr>\n",
       "      <th>22015</th>\n",
       "      <td>2201</td>\n",
       "      <td>22</td>\n",
       "      <td>1.956937</td>\n",
       "    </tr>\n",
       "    <tr>\n",
       "      <th>22016</th>\n",
       "      <td>2201</td>\n",
       "      <td>20</td>\n",
       "      <td>1.877487</td>\n",
       "    </tr>\n",
       "    <tr>\n",
       "      <th>22017</th>\n",
       "      <td>2201</td>\n",
       "      <td>18</td>\n",
       "      <td>1.841502</td>\n",
       "    </tr>\n",
       "    <tr>\n",
       "      <th>22018</th>\n",
       "      <td>2201</td>\n",
       "      <td>21</td>\n",
       "      <td>1.815213</td>\n",
       "    </tr>\n",
       "    <tr>\n",
       "      <th>22019</th>\n",
       "      <td>2201</td>\n",
       "      <td>14</td>\n",
       "      <td>1.756812</td>\n",
       "    </tr>\n",
       "  </tbody>\n",
       "</table>\n",
       "</div>"
      ],
      "text/plain": [
       "       userId  itemId    rating\n",
       "22010    2201      12  2.277563\n",
       "22011    2201      19  2.258675\n",
       "22012    2201      10  2.032094\n",
       "22013    2201      17  2.031960\n",
       "22014    2201       8  2.008327\n",
       "22015    2201      22  1.956937\n",
       "22016    2201      20  1.877487\n",
       "22017    2201      18  1.841502\n",
       "22018    2201      21  1.815213\n",
       "22019    2201      14  1.756812"
      ]
     },
     "metadata": {},
     "output_type": "display_data"
    },
    {
     "data": {
      "text/html": [
       "<div>\n",
       "<style scoped>\n",
       "    .dataframe tbody tr th:only-of-type {\n",
       "        vertical-align: middle;\n",
       "    }\n",
       "\n",
       "    .dataframe tbody tr th {\n",
       "        vertical-align: top;\n",
       "    }\n",
       "\n",
       "    .dataframe thead th {\n",
       "        text-align: right;\n",
       "    }\n",
       "</style>\n",
       "<table border=\"1\" class=\"dataframe\">\n",
       "  <thead>\n",
       "    <tr style=\"text-align: right;\">\n",
       "      <th></th>\n",
       "      <th>userId</th>\n",
       "      <th>precision</th>\n",
       "    </tr>\n",
       "  </thead>\n",
       "  <tbody>\n",
       "    <tr>\n",
       "      <th>2201</th>\n",
       "      <td>2201</td>\n",
       "      <td>0.666667</td>\n",
       "    </tr>\n",
       "  </tbody>\n",
       "</table>\n",
       "</div>"
      ],
      "text/plain": [
       "      userId  precision\n",
       "2201    2201   0.666667"
      ]
     },
     "metadata": {},
     "output_type": "display_data"
    }
   ],
   "source": [
    "# Recomend 10 items for the user\n",
    "u_mat_pred = mat_pred.loc[mat_pred.userId==user].sort_values(by='rating', ascending=False).head(10)\n",
    "display(u_pred)\n",
    "\n",
    "# Precision for the user\n",
    "u_mat_precisions = precisions.loc[precisions.userId==user]\n",
    "display(u_precisions)"
   ]
  },
  {
   "cell_type": "markdown",
   "id": "97c0449b",
   "metadata": {},
   "source": [
    "Nosso modelo bprmf obteve uma precisão maior quando comparado com a fatoração de matrizes."
   ]
  },
  {
   "cell_type": "markdown",
   "id": "e8f0fc9a",
   "metadata": {},
   "source": [
    "## Questão 2"
   ]
  },
  {
   "cell_type": "markdown",
   "id": "301b9e89",
   "metadata": {},
   "source": [
    "***Exercicio 02:*** Na aula vimos a implementação do método draw() do algoritmo BPR tradicional. Para um dado usuário, este método retorna aleatoriamente um item que ele viu (**item i**) e um outro item que ele não conhece (**item j**). O algoritmo assume que o item visto é preferível ao que ele não viu, e isso é usado para maximizar a diferença entre os scores desses itens (veja a variável **x_uij** da implementação). \n",
    "\n",
    "Um problema dessa abordagem é que os itens não vistos são necessariamente encarados como menos relevante pelo algoritmo, o que nem sempre acontece pois pode ser que o usuário não tenha interagido com aquele item pois não o conhece, mas que poderia gostar. Um outro problema é quando ambos os itens i e j foram vistos pelo usuário, o que numa estratégia com feedback exclusivamente implícito o BPR não consegue diferenciar qual item é preferível ao usuário. \n",
    "\n",
    "Você consegue pensar numa estratégia aperfeiçoada para o método draw()? Exemplos:\n",
    "- Se tivermos acesso aos metadados, podemos construir um perfil para o usuário de modo que o método draw() vai retornar itens j que estão mais distantes desse perfil.\n",
    "- Se dois itens i e j foram vistos, use os metadados (ou as notas, caso use feedback explícito) para decidir qual deles deve ser o i e qual deve ser o j. \n",
    "- Etc.\n",
    "\n",
    "Implemente pelo menos uma estratégia de aperfeiçoamento do BPR, e compare com a versão original. "
   ]
  },
  {
   "cell_type": "code",
   "execution_count": 27,
   "id": "87aeebe5",
   "metadata": {},
   "outputs": [
    {
     "data": {
      "text/plain": [
       "(291, 410)"
      ]
     },
     "execution_count": 27,
     "metadata": {},
     "output_type": "execute_result"
    }
   ],
   "source": [
    "def draw2(userId):\n",
    "    i = random.choice(all_items)\n",
    "    j = random.choice(all_items)\n",
    "    \n",
    "    if i == j: # try again\n",
    "        return draw2(userId)\n",
    "    \n",
    "    elif i in observed[userId] and j in observed[userId]:\n",
    "        i_rating = train.loc[(train.userId==userId) & (train.itemId==i), 'rating'].values[0]\n",
    "        j_rating = train.loc[(train.userId==userId) & (train.itemId==j), 'rating'].values[0]\n",
    "        \n",
    "        return (i, j) if i_rating > j_rating else (j, i)\n",
    "        \n",
    "    elif i in observed[userId]:\n",
    "        return i, j\n",
    "    \n",
    "    elif j in observed[userId]:\n",
    "        return j, i\n",
    "    \n",
    "    \n",
    "    return i, j\n",
    "\n",
    "draw2(2)"
   ]
  },
  {
   "cell_type": "code",
   "execution_count": 28,
   "id": "762f3052",
   "metadata": {},
   "outputs": [
    {
     "name": "stdout",
     "output_type": "stream",
     "text": [
      "Iter # 29\r"
     ]
    }
   ],
   "source": [
    "b2, p2, q2, error2 = train_bprmf(train, 4, draw=draw2)"
   ]
  },
  {
   "cell_type": "code",
   "execution_count": 29,
   "id": "fbf5b9ea",
   "metadata": {},
   "outputs": [
    {
     "name": "stdout",
     "output_type": "stream",
     "text": [
      "User # 11089\r"
     ]
    },
    {
     "data": {
      "text/html": [
       "<div>\n",
       "<style scoped>\n",
       "    .dataframe tbody tr th:only-of-type {\n",
       "        vertical-align: middle;\n",
       "    }\n",
       "\n",
       "    .dataframe tbody tr th {\n",
       "        vertical-align: top;\n",
       "    }\n",
       "\n",
       "    .dataframe thead th {\n",
       "        text-align: right;\n",
       "    }\n",
       "</style>\n",
       "<table border=\"1\" class=\"dataframe\">\n",
       "  <thead>\n",
       "    <tr style=\"text-align: right;\">\n",
       "      <th></th>\n",
       "      <th>userId</th>\n",
       "      <th>itemId</th>\n",
       "      <th>rating</th>\n",
       "    </tr>\n",
       "  </thead>\n",
       "  <tbody>\n",
       "    <tr>\n",
       "      <th>0</th>\n",
       "      <td>0</td>\n",
       "      <td>19</td>\n",
       "      <td>1.293593</td>\n",
       "    </tr>\n",
       "    <tr>\n",
       "      <th>1</th>\n",
       "      <td>0</td>\n",
       "      <td>17</td>\n",
       "      <td>0.881169</td>\n",
       "    </tr>\n",
       "    <tr>\n",
       "      <th>2</th>\n",
       "      <td>0</td>\n",
       "      <td>18</td>\n",
       "      <td>0.832465</td>\n",
       "    </tr>\n",
       "    <tr>\n",
       "      <th>3</th>\n",
       "      <td>0</td>\n",
       "      <td>30</td>\n",
       "      <td>0.789166</td>\n",
       "    </tr>\n",
       "    <tr>\n",
       "      <th>4</th>\n",
       "      <td>0</td>\n",
       "      <td>21</td>\n",
       "      <td>0.748637</td>\n",
       "    </tr>\n",
       "  </tbody>\n",
       "</table>\n",
       "</div>"
      ],
      "text/plain": [
       "   userId  itemId    rating\n",
       "0       0      19  1.293593\n",
       "1       0      17  0.881169\n",
       "2       0      18  0.832465\n",
       "3       0      30  0.789166\n",
       "4       0      21  0.748637"
      ]
     },
     "execution_count": 29,
     "metadata": {},
     "output_type": "execute_result"
    }
   ],
   "source": [
    "pred2 = predict(b2, p2, q2, n=10)\n",
    "pred2.head()"
   ]
  },
  {
   "cell_type": "code",
   "execution_count": 30,
   "id": "f7493442",
   "metadata": {},
   "outputs": [
    {
     "name": "stdout",
     "output_type": "stream",
     "text": [
      "Progress: 11089/11090\r"
     ]
    },
    {
     "data": {
      "text/html": [
       "<div>\n",
       "<style scoped>\n",
       "    .dataframe tbody tr th:only-of-type {\n",
       "        vertical-align: middle;\n",
       "    }\n",
       "\n",
       "    .dataframe tbody tr th {\n",
       "        vertical-align: top;\n",
       "    }\n",
       "\n",
       "    .dataframe thead th {\n",
       "        text-align: right;\n",
       "    }\n",
       "</style>\n",
       "<table border=\"1\" class=\"dataframe\">\n",
       "  <thead>\n",
       "    <tr style=\"text-align: right;\">\n",
       "      <th></th>\n",
       "      <th>userId</th>\n",
       "      <th>precision</th>\n",
       "    </tr>\n",
       "  </thead>\n",
       "  <tbody>\n",
       "    <tr>\n",
       "      <th>0</th>\n",
       "      <td>0</td>\n",
       "      <td>0.0</td>\n",
       "    </tr>\n",
       "    <tr>\n",
       "      <th>1</th>\n",
       "      <td>1</td>\n",
       "      <td>0.5</td>\n",
       "    </tr>\n",
       "    <tr>\n",
       "      <th>2</th>\n",
       "      <td>2</td>\n",
       "      <td>1.0</td>\n",
       "    </tr>\n",
       "    <tr>\n",
       "      <th>3</th>\n",
       "      <td>3</td>\n",
       "      <td>1.0</td>\n",
       "    </tr>\n",
       "    <tr>\n",
       "      <th>4</th>\n",
       "      <td>4</td>\n",
       "      <td>0.0</td>\n",
       "    </tr>\n",
       "  </tbody>\n",
       "</table>\n",
       "</div>"
      ],
      "text/plain": [
       "   userId  precision\n",
       "0       0        0.0\n",
       "1       1        0.5\n",
       "2       2        1.0\n",
       "3       3        1.0\n",
       "4       4        0.0"
      ]
     },
     "execution_count": 30,
     "metadata": {},
     "output_type": "execute_result"
    }
   ],
   "source": [
    "precisions2 = precision(pred2, test, n=10)\n",
    "precisions2.head()"
   ]
  },
  {
   "cell_type": "code",
   "execution_count": 31,
   "id": "25b892a0",
   "metadata": {},
   "outputs": [
    {
     "data": {
      "text/plain": [
       "0.47"
      ]
     },
     "execution_count": 31,
     "metadata": {},
     "output_type": "execute_result"
    }
   ],
   "source": [
    "precisions2['precision'].dropna().mean().round(2)"
   ]
  },
  {
   "cell_type": "code",
   "execution_count": 32,
   "id": "718fbda1",
   "metadata": {},
   "outputs": [
    {
     "data": {
      "text/html": [
       "<div>\n",
       "<style scoped>\n",
       "    .dataframe tbody tr th:only-of-type {\n",
       "        vertical-align: middle;\n",
       "    }\n",
       "\n",
       "    .dataframe tbody tr th {\n",
       "        vertical-align: top;\n",
       "    }\n",
       "\n",
       "    .dataframe thead th {\n",
       "        text-align: right;\n",
       "    }\n",
       "</style>\n",
       "<table border=\"1\" class=\"dataframe\">\n",
       "  <thead>\n",
       "    <tr style=\"text-align: right;\">\n",
       "      <th></th>\n",
       "      <th>userId</th>\n",
       "      <th>itemId</th>\n",
       "      <th>rating</th>\n",
       "    </tr>\n",
       "  </thead>\n",
       "  <tbody>\n",
       "    <tr>\n",
       "      <th>22010</th>\n",
       "      <td>2201</td>\n",
       "      <td>19</td>\n",
       "      <td>1.295899</td>\n",
       "    </tr>\n",
       "    <tr>\n",
       "      <th>22011</th>\n",
       "      <td>2201</td>\n",
       "      <td>12</td>\n",
       "      <td>1.265308</td>\n",
       "    </tr>\n",
       "    <tr>\n",
       "      <th>22012</th>\n",
       "      <td>2201</td>\n",
       "      <td>17</td>\n",
       "      <td>0.880854</td>\n",
       "    </tr>\n",
       "    <tr>\n",
       "      <th>22013</th>\n",
       "      <td>2201</td>\n",
       "      <td>18</td>\n",
       "      <td>0.835449</td>\n",
       "    </tr>\n",
       "    <tr>\n",
       "      <th>22014</th>\n",
       "      <td>2201</td>\n",
       "      <td>30</td>\n",
       "      <td>0.769002</td>\n",
       "    </tr>\n",
       "    <tr>\n",
       "      <th>22015</th>\n",
       "      <td>2201</td>\n",
       "      <td>21</td>\n",
       "      <td>0.740742</td>\n",
       "    </tr>\n",
       "    <tr>\n",
       "      <th>22016</th>\n",
       "      <td>2201</td>\n",
       "      <td>4</td>\n",
       "      <td>0.671773</td>\n",
       "    </tr>\n",
       "    <tr>\n",
       "      <th>22017</th>\n",
       "      <td>2201</td>\n",
       "      <td>22</td>\n",
       "      <td>0.638968</td>\n",
       "    </tr>\n",
       "    <tr>\n",
       "      <th>22018</th>\n",
       "      <td>2201</td>\n",
       "      <td>57</td>\n",
       "      <td>0.615082</td>\n",
       "    </tr>\n",
       "    <tr>\n",
       "      <th>22019</th>\n",
       "      <td>2201</td>\n",
       "      <td>20</td>\n",
       "      <td>0.606759</td>\n",
       "    </tr>\n",
       "  </tbody>\n",
       "</table>\n",
       "</div>"
      ],
      "text/plain": [
       "       userId  itemId    rating\n",
       "22010    2201      19  1.295899\n",
       "22011    2201      12  1.265308\n",
       "22012    2201      17  0.880854\n",
       "22013    2201      18  0.835449\n",
       "22014    2201      30  0.769002\n",
       "22015    2201      21  0.740742\n",
       "22016    2201       4  0.671773\n",
       "22017    2201      22  0.638968\n",
       "22018    2201      57  0.615082\n",
       "22019    2201      20  0.606759"
      ]
     },
     "metadata": {},
     "output_type": "display_data"
    },
    {
     "data": {
      "text/html": [
       "<div>\n",
       "<style scoped>\n",
       "    .dataframe tbody tr th:only-of-type {\n",
       "        vertical-align: middle;\n",
       "    }\n",
       "\n",
       "    .dataframe tbody tr th {\n",
       "        vertical-align: top;\n",
       "    }\n",
       "\n",
       "    .dataframe thead th {\n",
       "        text-align: right;\n",
       "    }\n",
       "</style>\n",
       "<table border=\"1\" class=\"dataframe\">\n",
       "  <thead>\n",
       "    <tr style=\"text-align: right;\">\n",
       "      <th></th>\n",
       "      <th>userId</th>\n",
       "      <th>precision</th>\n",
       "    </tr>\n",
       "  </thead>\n",
       "  <tbody>\n",
       "    <tr>\n",
       "      <th>2201</th>\n",
       "      <td>2201</td>\n",
       "      <td>0.5</td>\n",
       "    </tr>\n",
       "  </tbody>\n",
       "</table>\n",
       "</div>"
      ],
      "text/plain": [
       "      userId  precision\n",
       "2201    2201        0.5"
      ]
     },
     "metadata": {},
     "output_type": "display_data"
    }
   ],
   "source": [
    "# Recomend 10 items for the user\n",
    "u_pred2 = pred2.loc[pred2.userId==user].sort_values(by='rating', ascending=False).head(10)\n",
    "display(u_pred2)\n",
    "\n",
    "# Precision for the user\n",
    "u_precisions2 = precisions2.loc[precisions2.userId==user]\n",
    "display(u_precisions2)"
   ]
  },
  {
   "cell_type": "markdown",
   "id": "95006eca",
   "metadata": {},
   "source": [
    "Nossa função draw2 seleciona aleatoriamente itens x, y e decide qual será o i e j de acordo com os critérios: (1) i está presente em observados; (2) i tem maior nota do que j.\n",
    "\n",
    "Nosso método customizado obteve uma levemente precisão pior. Provavelmente, a condicional presente na função `draw` está reduzindo a aleatóriedade do sistema e está enviesando o modelo de alguma maneira."
   ]
  }
 ],
 "metadata": {
  "kernelspec": {
   "display_name": "Python 3",
   "language": "python",
   "name": "python3"
  },
  "language_info": {
   "codemirror_mode": {
    "name": "ipython",
    "version": 3
   },
   "file_extension": ".py",
   "mimetype": "text/x-python",
   "name": "python",
   "nbconvert_exporter": "python",
   "pygments_lexer": "ipython3",
   "version": "3.10.12"
  }
 },
 "nbformat": 4,
 "nbformat_minor": 5
}
