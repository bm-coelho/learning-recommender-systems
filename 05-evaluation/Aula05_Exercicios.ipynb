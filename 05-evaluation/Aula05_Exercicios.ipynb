{
 "cells": [
  {
   "cell_type": "markdown",
   "id": "bb8764ef",
   "metadata": {},
   "source": [
    "# Aula 05 - Avaliação de Sistemas de Recomendação - Exercícios"
   ]
  },
  {
   "cell_type": "code",
   "execution_count": 1,
   "id": "397a5f1d",
   "metadata": {},
   "outputs": [],
   "source": [
    "import pandas as pd\n",
    "import numpy as np"
   ]
  },
  {
   "cell_type": "markdown",
   "id": "29ac21fe",
   "metadata": {},
   "source": [
    "### Importar base de dados"
   ]
  },
  {
   "cell_type": "code",
   "execution_count": 2,
   "id": "59c840c6",
   "metadata": {},
   "outputs": [
    {
     "name": "stdout",
     "output_type": "stream",
     "text": [
      "100% [....................................................] 65019041 / 65019041\n",
      "Saved under ml-20m-compact.tar.gz\n",
      "dataset/\n",
      "dataset/tags_sample.csv\n",
      "dataset/._.DS_Store\n",
      "dataset/.DS_Store\n",
      "dataset/movies_sample.csv\n",
      "dataset/._genome-tags.csv\n",
      "dataset/genome-tags.csv\n",
      "dataset/._ml-youtube.csv\n",
      "dataset/ml-youtube.csv\n",
      "dataset/._genome-scores.csv\n",
      "dataset/genome-scores.csv\n",
      "dataset/ratings_sample.csv\n"
     ]
    }
   ],
   "source": [
    "import wget\n",
    "!python3 -m wget https://github.com/mmanzato/MBABigData/raw/master/ml-20m-compact.tar.gz\n",
    "!tar -xvzf ml-20m-compact.tar.gz"
   ]
  },
  {
   "cell_type": "code",
   "execution_count": 3,
   "id": "629b525d",
   "metadata": {},
   "outputs": [
    {
     "data": {
      "text/html": [
       "<div>\n",
       "<style scoped>\n",
       "    .dataframe tbody tr th:only-of-type {\n",
       "        vertical-align: middle;\n",
       "    }\n",
       "\n",
       "    .dataframe tbody tr th {\n",
       "        vertical-align: top;\n",
       "    }\n",
       "\n",
       "    .dataframe thead th {\n",
       "        text-align: right;\n",
       "    }\n",
       "</style>\n",
       "<table border=\"1\" class=\"dataframe\">\n",
       "  <thead>\n",
       "    <tr style=\"text-align: right;\">\n",
       "      <th></th>\n",
       "      <th>userId</th>\n",
       "      <th>movieId</th>\n",
       "      <th>rating</th>\n",
       "      <th>title</th>\n",
       "    </tr>\n",
       "  </thead>\n",
       "  <tbody>\n",
       "    <tr>\n",
       "      <th>0</th>\n",
       "      <td>11</td>\n",
       "      <td>7481</td>\n",
       "      <td>5.0</td>\n",
       "      <td>Enemy Mine (1985)</td>\n",
       "    </tr>\n",
       "    <tr>\n",
       "      <th>1</th>\n",
       "      <td>11</td>\n",
       "      <td>1046</td>\n",
       "      <td>4.5</td>\n",
       "      <td>Beautiful Thing (1996)</td>\n",
       "    </tr>\n",
       "    <tr>\n",
       "      <th>2</th>\n",
       "      <td>11</td>\n",
       "      <td>616</td>\n",
       "      <td>4.0</td>\n",
       "      <td>Aristocats, The (1970)</td>\n",
       "    </tr>\n",
       "    <tr>\n",
       "      <th>3</th>\n",
       "      <td>11</td>\n",
       "      <td>3535</td>\n",
       "      <td>2.0</td>\n",
       "      <td>American Psycho (2000)</td>\n",
       "    </tr>\n",
       "    <tr>\n",
       "      <th>4</th>\n",
       "      <td>11</td>\n",
       "      <td>5669</td>\n",
       "      <td>5.0</td>\n",
       "      <td>Bowling for Columbine (2002)</td>\n",
       "    </tr>\n",
       "    <tr>\n",
       "      <th>...</th>\n",
       "      <td>...</td>\n",
       "      <td>...</td>\n",
       "      <td>...</td>\n",
       "      <td>...</td>\n",
       "    </tr>\n",
       "    <tr>\n",
       "      <th>190616</th>\n",
       "      <td>138493</td>\n",
       "      <td>288</td>\n",
       "      <td>5.0</td>\n",
       "      <td>Natural Born Killers (1994)</td>\n",
       "    </tr>\n",
       "    <tr>\n",
       "      <th>190617</th>\n",
       "      <td>138493</td>\n",
       "      <td>1748</td>\n",
       "      <td>5.0</td>\n",
       "      <td>Dark City (1998)</td>\n",
       "    </tr>\n",
       "    <tr>\n",
       "      <th>190618</th>\n",
       "      <td>138493</td>\n",
       "      <td>616</td>\n",
       "      <td>4.0</td>\n",
       "      <td>Aristocats, The (1970)</td>\n",
       "    </tr>\n",
       "    <tr>\n",
       "      <th>190619</th>\n",
       "      <td>138493</td>\n",
       "      <td>1597</td>\n",
       "      <td>4.5</td>\n",
       "      <td>Conspiracy Theory (1997)</td>\n",
       "    </tr>\n",
       "    <tr>\n",
       "      <th>190620</th>\n",
       "      <td>138493</td>\n",
       "      <td>7371</td>\n",
       "      <td>5.0</td>\n",
       "      <td>Dogville (2003)</td>\n",
       "    </tr>\n",
       "  </tbody>\n",
       "</table>\n",
       "<p>190621 rows × 4 columns</p>\n",
       "</div>"
      ],
      "text/plain": [
       "        userId  movieId  rating                         title\n",
       "0           11     7481     5.0             Enemy Mine (1985)\n",
       "1           11     1046     4.5        Beautiful Thing (1996)\n",
       "2           11      616     4.0        Aristocats, The (1970)\n",
       "3           11     3535     2.0        American Psycho (2000)\n",
       "4           11     5669     5.0  Bowling for Columbine (2002)\n",
       "...        ...      ...     ...                           ...\n",
       "190616  138493      288     5.0   Natural Born Killers (1994)\n",
       "190617  138493     1748     5.0              Dark City (1998)\n",
       "190618  138493      616     4.0        Aristocats, The (1970)\n",
       "190619  138493     1597     4.5      Conspiracy Theory (1997)\n",
       "190620  138493     7371     5.0               Dogville (2003)\n",
       "\n",
       "[190621 rows x 4 columns]"
      ]
     },
     "execution_count": 3,
     "metadata": {},
     "output_type": "execute_result"
    }
   ],
   "source": [
    "movies = pd.read_csv('./dataset/movies_sample.csv')\n",
    "ratings = pd.read_csv('./dataset/ratings_sample.csv')\n",
    "df = ratings[['userId', 'movieId', 'rating']]\n",
    "df = df.merge(movies[['movieId', 'title']])\n",
    "df"
   ]
  },
  {
   "cell_type": "code",
   "execution_count": 4,
   "id": "5cb5c6d2",
   "metadata": {},
   "outputs": [
    {
     "data": {
      "text/html": [
       "<div>\n",
       "<style scoped>\n",
       "    .dataframe tbody tr th:only-of-type {\n",
       "        vertical-align: middle;\n",
       "    }\n",
       "\n",
       "    .dataframe tbody tr th {\n",
       "        vertical-align: top;\n",
       "    }\n",
       "\n",
       "    .dataframe thead th {\n",
       "        text-align: right;\n",
       "    }\n",
       "</style>\n",
       "<table border=\"1\" class=\"dataframe\">\n",
       "  <thead>\n",
       "    <tr style=\"text-align: right;\">\n",
       "      <th></th>\n",
       "      <th>movieId</th>\n",
       "      <th>title</th>\n",
       "      <th>genre</th>\n",
       "    </tr>\n",
       "  </thead>\n",
       "  <tbody>\n",
       "    <tr>\n",
       "      <th>0</th>\n",
       "      <td>30</td>\n",
       "      <td>Shanghai Triad (Yao a yao yao dao waipo qiao) ...</td>\n",
       "      <td>Crime</td>\n",
       "    </tr>\n",
       "    <tr>\n",
       "      <th>0</th>\n",
       "      <td>30</td>\n",
       "      <td>Shanghai Triad (Yao a yao yao dao waipo qiao) ...</td>\n",
       "      <td>Drama</td>\n",
       "    </tr>\n",
       "    <tr>\n",
       "      <th>1</th>\n",
       "      <td>31</td>\n",
       "      <td>Dangerous Minds (1995)</td>\n",
       "      <td>Drama</td>\n",
       "    </tr>\n",
       "    <tr>\n",
       "      <th>2</th>\n",
       "      <td>37</td>\n",
       "      <td>Across the Sea of Time (1995)</td>\n",
       "      <td>Documentary</td>\n",
       "    </tr>\n",
       "    <tr>\n",
       "      <th>2</th>\n",
       "      <td>37</td>\n",
       "      <td>Across the Sea of Time (1995)</td>\n",
       "      <td>IMAX</td>\n",
       "    </tr>\n",
       "  </tbody>\n",
       "</table>\n",
       "</div>"
      ],
      "text/plain": [
       "   movieId                                              title        genre\n",
       "0       30  Shanghai Triad (Yao a yao yao dao waipo qiao) ...        Crime\n",
       "0       30  Shanghai Triad (Yao a yao yao dao waipo qiao) ...        Drama\n",
       "1       31                             Dangerous Minds (1995)        Drama\n",
       "2       37                      Across the Sea of Time (1995)  Documentary\n",
       "2       37                      Across the Sea of Time (1995)         IMAX"
      ]
     },
     "execution_count": 4,
     "metadata": {},
     "output_type": "execute_result"
    }
   ],
   "source": [
    "movies_genres = movies.drop('genres', axis=1).join(movies.genres.str.split('|', expand=True)\n",
    "             .stack().reset_index(drop=True, level=1).rename('genre'))\n",
    "movies_genres.head()"
   ]
  },
  {
   "cell_type": "code",
   "execution_count": 5,
   "id": "d1a785c3",
   "metadata": {},
   "outputs": [
    {
     "data": {
      "text/html": [
       "<div>\n",
       "<style scoped>\n",
       "    .dataframe tbody tr th:only-of-type {\n",
       "        vertical-align: middle;\n",
       "    }\n",
       "\n",
       "    .dataframe tbody tr th {\n",
       "        vertical-align: top;\n",
       "    }\n",
       "\n",
       "    .dataframe thead th {\n",
       "        text-align: right;\n",
       "    }\n",
       "</style>\n",
       "<table border=\"1\" class=\"dataframe\">\n",
       "  <thead>\n",
       "    <tr style=\"text-align: right;\">\n",
       "      <th></th>\n",
       "      <th>userId</th>\n",
       "      <th>movieId</th>\n",
       "      <th>tag</th>\n",
       "      <th>timestamp_y</th>\n",
       "    </tr>\n",
       "  </thead>\n",
       "  <tbody>\n",
       "    <tr>\n",
       "      <th>0</th>\n",
       "      <td>279</td>\n",
       "      <td>916</td>\n",
       "      <td>Gregory Peck</td>\n",
       "      <td>1329962459</td>\n",
       "    </tr>\n",
       "    <tr>\n",
       "      <th>1</th>\n",
       "      <td>279</td>\n",
       "      <td>916</td>\n",
       "      <td>need to own</td>\n",
       "      <td>1329962471</td>\n",
       "    </tr>\n",
       "    <tr>\n",
       "      <th>2</th>\n",
       "      <td>279</td>\n",
       "      <td>916</td>\n",
       "      <td>romantic comedy</td>\n",
       "      <td>1329962476</td>\n",
       "    </tr>\n",
       "    <tr>\n",
       "      <th>3</th>\n",
       "      <td>279</td>\n",
       "      <td>916</td>\n",
       "      <td>Rome</td>\n",
       "      <td>1329962490</td>\n",
       "    </tr>\n",
       "    <tr>\n",
       "      <th>4</th>\n",
       "      <td>279</td>\n",
       "      <td>916</td>\n",
       "      <td>royalty</td>\n",
       "      <td>1329962474</td>\n",
       "    </tr>\n",
       "  </tbody>\n",
       "</table>\n",
       "</div>"
      ],
      "text/plain": [
       "   userId  movieId              tag  timestamp_y\n",
       "0     279      916     Gregory Peck   1329962459\n",
       "1     279      916      need to own   1329962471\n",
       "2     279      916  romantic comedy   1329962476\n",
       "3     279      916             Rome   1329962490\n",
       "4     279      916          royalty   1329962474"
      ]
     },
     "execution_count": 5,
     "metadata": {},
     "output_type": "execute_result"
    }
   ],
   "source": [
    "movies_tags = pd.read_csv('./dataset/tags_sample.csv')\n",
    "movies_tags.head()"
   ]
  },
  {
   "cell_type": "code",
   "execution_count": 6,
   "id": "626bcde9",
   "metadata": {},
   "outputs": [],
   "source": [
    "map_users = {user: idx for idx, user in enumerate(df.userId.unique())}\n",
    "map_items = {item: idx for idx, item in enumerate(df.movieId.unique())}\n",
    "\n",
    "df['userId'] = df['userId'].map(map_users)\n",
    "df['movieId'] = df['movieId'].map(map_items)\n",
    "\n",
    "movies_tags['userId'] = movies_tags['userId'].map(map_users)\n",
    "movies_tags['movieId'] = movies_tags['movieId'].map(map_items)\n",
    "movies_tags.dropna(inplace=True)\n",
    "movies_tags['movieId'] = movies_tags.movieId.astype(int)\n",
    "movies_tags['userId'] = movies_tags.userId.astype(int)\n",
    "\n",
    "movies_genres['movieId'] = movies_genres['movieId'].map(map_items)\n",
    "movies_genres.dropna(inplace=True)\n",
    "movies_genres['movieId'] = movies_genres.movieId.astype(int)\n",
    "\n",
    "map_title = {}\n",
    "for _, row in df.iterrows():\n",
    "    map_title[row.movieId] = row.title\n"
   ]
  },
  {
   "cell_type": "code",
   "execution_count": 7,
   "id": "282a2cfe",
   "metadata": {},
   "outputs": [],
   "source": [
    "movies_genres[['movieId', 'genre']].to_csv('items_genres.dat', index=False, sep='\\t', header=False)\n",
    "movies_tags[['movieId', 'tag']].to_csv('items_tags.dat', index=False, sep='\\t', header=False)"
   ]
  },
  {
   "cell_type": "markdown",
   "id": "3a67cae4",
   "metadata": {},
   "source": [
    "### Divisão da base em treino e teste"
   ]
  },
  {
   "cell_type": "code",
   "execution_count": 8,
   "id": "22f77461",
   "metadata": {},
   "outputs": [],
   "source": [
    "from sklearn.model_selection import train_test_split\n",
    "train, test = train_test_split(df, test_size=.2, random_state=2)\n",
    "train.to_csv('train.dat', index=False, header=False, sep='\\t')\n",
    "test.to_csv('test.dat', index=False, header=False, sep='\\t')"
   ]
  },
  {
   "cell_type": "markdown",
   "id": "580a1494",
   "metadata": {},
   "source": [
    "### Exemplos de utilização do CaseRecommender"
   ]
  },
  {
   "cell_type": "code",
   "execution_count": 9,
   "id": "75bbbd2d",
   "metadata": {},
   "outputs": [
    {
     "name": "stdout",
     "output_type": "stream",
     "text": [
      "[Case Recommender: Rating Prediction > Item Attribute KNN Algorithm]\n",
      "\n",
      "train data:: 11090 users and 405 items (152496 interactions) | sparsity:: 96.60%\n",
      "test data:: 10571 users and 331 items (38125 interactions) | sparsity:: 98.91%\n",
      "\n",
      "training_time:: 3.365583 sec\n",
      ">> metadata:: 417 items and 20 metadata (890 interactions) | sparsity:: 89.33%\n",
      "prediction_time:: 0.356102 sec\n",
      "Eval:: MAE: 0.73347 RMSE: 0.964352 \n",
      "[Case Recommender: Rating Prediction > Item Attribute KNN Algorithm]\n",
      "\n",
      "train data:: 11090 users and 405 items (152496 interactions) | sparsity:: 96.60%\n",
      "test data:: 10571 users and 331 items (38125 interactions) | sparsity:: 98.91%\n",
      "\n",
      "training_time:: 3.476048 sec\n",
      ">> metadata:: 231 items and 1979 metadata (6274 interactions) | sparsity:: 98.63%\n",
      "prediction_time:: 0.444583 sec\n",
      "Eval:: MAE: 0.765116 RMSE: 1.006911 \n"
     ]
    }
   ],
   "source": [
    "from caserec.recommenders.rating_prediction.item_attribute_knn import ItemAttributeKNN\n",
    "\n",
    "ItemAttributeKNN('train.dat', 'test.dat', metadata_file='items_genres.dat', k_neighbors=10, as_similar_first=True).compute()\n",
    "ItemAttributeKNN('train.dat', 'test.dat', metadata_file='items_tags.dat', k_neighbors=10, as_similar_first=True).compute()"
   ]
  },
  {
   "cell_type": "markdown",
   "id": "92d5c385",
   "metadata": {},
   "source": [
    "***Exercício 01:*** Verifique o efeito no RSME ao aumentar o número de vizinhos do algoritmo ItemAttributeKNN com usando gêneros. Explique."
   ]
  },
  {
   "cell_type": "code",
   "execution_count": 10,
   "id": "ecc3d504",
   "metadata": {},
   "outputs": [],
   "source": [
    "! mkdir -p results\n",
    "! mkdir -p metrics"
   ]
  },
  {
   "cell_type": "code",
   "execution_count": 11,
   "id": "9adb54db",
   "metadata": {},
   "outputs": [],
   "source": [
    "# To ensure our analysis is consistent, we will be saving the inputs and outputs of every experiment\n",
    "#  in two dictionaries, one for the inputs and one for the outputs.\n",
    "variables = dict()\n",
    "awnsers = dict()"
   ]
  },
  {
   "cell_type": "code",
   "execution_count": 12,
   "id": "79065f45",
   "metadata": {},
   "outputs": [],
   "source": [
    "# Modules needed for this exercise\n",
    "import re\n",
    "import io\n",
    "from contextlib import redirect_stdout\n",
    "import matplotlib.pyplot as plt"
   ]
  },
  {
   "cell_type": "code",
   "execution_count": 13,
   "id": "d4cfea6e",
   "metadata": {},
   "outputs": [],
   "source": [
    "# Some support functions\n",
    "\n",
    "# Shorthand to make it easier to test different k values\n",
    "def create_knn_model(k : int, save_it=True):\n",
    "    return ItemAttributeKNN(\n",
    "        'train.dat', \n",
    "        'test.dat', \n",
    "        f'results/item_attrib_knn_k_{k}.dat' if save_it else None,\n",
    "        metadata_file='items_genres.dat', \n",
    "        k_neighbors=k, \n",
    "        as_similar_first=True\n",
    "    )\n",
    "\n",
    "# Function to capture output and extract RMSE\n",
    "def compute(model, model_name = None):\n",
    "    f = io.StringIO()\n",
    "    \n",
    "    with redirect_stdout(f):\n",
    "        model.compute()\n",
    "        \n",
    "    produced = f.getvalue()\n",
    "    \n",
    "    if model_name is not None:\n",
    "        with open(f'metrics/{model_name}.txt', 'w') as f:\n",
    "            f.write(produced)\n",
    "        \n",
    "    return produced\n",
    "\n",
    "\n",
    "# Function to extract RMSE from the output using regex\n",
    "def extract_rmse(report):\n",
    "    # Use regex to extract RMSE from the output\n",
    "    rmse_match = re.search(r'RMSE:\\s+([\\d.]+)', report)\n",
    "    return float(rmse_match.group(1)) if rmse_match else None\n",
    "\n",
    "\n",
    "def compute_rmse(k_values, save_it=True):\n",
    "    for k in k_values:\n",
    "        model_name = f'item_attrib_knn_k_{k}'\n",
    "        \n",
    "        model = create_knn_model(k, save_it)\n",
    "        report = compute(model, model_name)\n",
    "        rmse = extract_rmse(report)\n",
    "        \n",
    "        yield rmse\n",
    "        \n",
    "def plot_rmse(k_values : list[int], rmse_values : list[float]):\n",
    "    plt.plot(k_values, rmse_values)\n",
    "    plt.xlabel('k')\n",
    "    plt.ylabel('RMSE')\n",
    "    plt.title('RMSE for different k values')\n",
    "    plt.show()"
   ]
  },
  {
   "cell_type": "code",
   "execution_count": 14,
   "id": "4600c9e9",
   "metadata": {},
   "outputs": [
    {
     "data": {
      "text/plain": [
       "[0.964352, 0.963254, 0.965269, 0.957595, 0.948382]"
      ]
     },
     "execution_count": 14,
     "metadata": {},
     "output_type": "execute_result"
    }
   ],
   "source": [
    "# BEWARE! This cell may take a few minutes to run.\n",
    "\n",
    "# Exercise 01 - Experiment 01\n",
    "# Testing different k values\n",
    "variables['q01-t01'] = list(range(10, 100 + 1, 20))\n",
    "\n",
    "# Perform the experiment\n",
    "awnsers['q01-t01'] = list(compute_rmse(variables['q01-t01']))\n",
    "\n",
    "# Results\n",
    "awnsers['q01-t01']"
   ]
  },
  {
   "cell_type": "code",
   "execution_count": 15,
   "id": "a6555819",
   "metadata": {},
   "outputs": [
    {
     "data": {
      "image/png": "[encoded data removed]",
      "text/plain": [
       "<Figure size 640x480 with 1 Axes>"
      ]
     },
     "metadata": {},
     "output_type": "display_data"
    }
   ],
   "source": [
    "plot_rmse(variables['q01-t01'], awnsers['q01-t01'])"
   ]
  },
  {
   "cell_type": "markdown",
   "id": "2da4d458",
   "metadata": {},
   "source": [
    "Testando para valores maiores, obtemos:"
   ]
  },
  {
   "cell_type": "code",
   "execution_count": 17,
   "id": "42da937b",
   "metadata": {},
   "outputs": [
    {
     "data": {
      "image/png": "[encoded data removed]",
      "text/plain": [
       "<Figure size 640x480 with 1 Axes>"
      ]
     },
     "metadata": {},
     "output_type": "display_data"
    }
   ],
   "source": [
    "# BEWARE! This cell may take a few minutes to run.\n",
    "\n",
    "# Exercise 1 - Experiment 2\n",
    "variables['q01-t02'] = range(100, 1100, 200)\n",
    "awnsers['q01-t02'] = list(compute_rmse(variables['q01-t02'], save_it=False))\n",
    "plot_rmse(variables['q01-t02'], awnsers['q01-t02'])"
   ]
  },
  {
   "cell_type": "markdown",
   "id": "fa080744",
   "metadata": {},
   "source": [
    "Nos testes realizados, observamos que o erro médio tende a diminuir conforme o\n",
    " hiperparâmetro $(k)$ aumenta, até atingir um platô e se estabilizar em aproximadamente\n",
    " $k \\approx 300$.\n",
    "\n",
    "É de se esperar que algoritmos baseados em KNN gerem predições mais genéricas conforme o valor de $k$ aumenta.\n",
    " Essas predições genéricas se comportam como uma \"predição média\" do dataset,\n",
    " o que implica em um RMSE pequeno, mas a um custo de menor especialização nas recomendações.\n",
    " Ou seja, apesar do erro pequeno, essas recomendações podem não ser muito úteis para cada usuário.\n",
    " Nesses casos, a precisão do modelo é priorizada, enquanto a diversidade, a novidade e\n",
    " a serendipidade são menosprezadas.\n",
    "\n",
    "Esse fenômeno é uma consequência da natureza do método utilizado.\n",
    " Algoritmos baseados em KNN, por definição, usam os $k$ vizinhos mais similares para fazer suas predições.\n",
    " Assim, para valores pequenos de $k$, a similaridade dos vizinhos mais próximos produz \n",
    " uma recomendação mais especializada. Para valores grandes de $k$, a diversidade do subconjunto dos \n",
    " vizinhos selecionados sobressai à similaridade. \n",
    " Desse modo, as características médias do dataset se tornam proeminentes,\n",
    " o que resulta em uma recomendação mais genérica.\n",
    " Portanto, é fundamental encontrar um equilíbrio adequado para o valor de $k$,\n",
    " garantindo que as recomendações permaneçam úteis para cada usuário sem sacrificar a precisão.\n"
   ]
  },
  {
   "cell_type": "markdown",
   "id": "a0894ca4",
   "metadata": {},
   "source": [
    "***Exercício 02:*** Verifique o efeito na métrica MAP@1 ao aumentar o número de fatores do algoritmo BPRMF. Explique."
   ]
  },
  {
   "cell_type": "code",
   "execution_count": 18,
   "id": "1d8c0bcd",
   "metadata": {},
   "outputs": [],
   "source": [
    "# Making sure the results folder exists\n",
    "! mkdir -p results\n",
    "! mkdir -p metrics"
   ]
  },
  {
   "cell_type": "code",
   "execution_count": 19,
   "id": "37fe983b",
   "metadata": {},
   "outputs": [],
   "source": [
    "# Needed modules\n",
    "from caserec.recommenders.item_recommendation.bprmf import BprMF"
   ]
  },
  {
   "cell_type": "code",
   "execution_count": 20,
   "id": "7a1dd458",
   "metadata": {},
   "outputs": [],
   "source": [
    "# Utility functions\n",
    "def create_bprmf_model(factors : int):\n",
    "    return BprMF(\n",
    "        train_file='train.dat', \n",
    "        test_file='test.dat', \n",
    "        output_file=f'results/bprmf_factors_{factors}.dat',\n",
    "        factors=factors\n",
    "    )\n",
    "\n",
    "# Function to extract the metadata produced by the model\n",
    "def extract_model_metrics(text):\n",
    "    # Find all \"Eval::\" lines and their corresponding metrics\n",
    "    eval_lines = re.findall(r\"Eval::(.+)\", text)\n",
    "    \n",
    "    all_metrics = []\n",
    "    for line in eval_lines:\n",
    "        # Using a regex pattern to extract key-value pairs from each Eval line\n",
    "        metrics = re.findall(r'(\\S+):\\s*([\\d.]+)', line)\n",
    "        # Convert to dictionary with the appropriate float conversion for values\n",
    "        metrics_dict = {key: float(value) for key, value in metrics}\n",
    "        all_metrics.append(metrics_dict)\n",
    "    \n",
    "    return all_metrics\n",
    "\n",
    "def get_metrics(text, important_metrics = None, multiple_lines=False):\n",
    "    metrics = extract_model_metrics(text)\n",
    "    \n",
    "    # By default, if multiple \"eval\" lines are present, we only consider the last one\n",
    "    if not multiple_lines: metrics = metrics[-1]\n",
    "    \n",
    "    if important_metrics is None:\n",
    "        return metrics\n",
    "    else:\n",
    "        return {metric: metrics[metric] for metric in important_metrics}\n",
    "\n",
    "def compute_bprmf(factors_values):\n",
    "    for factors in factors_values:\n",
    "        model_name = f'bprmf_factors_{factors}'\n",
    "        \n",
    "        model = create_bprmf_model(factors)\n",
    "        report = compute(model, model_name)\n",
    "        metrics = get_metrics(report, ['MAP@1'])\n",
    "        \n",
    "        yield metrics\n",
    "        \n",
    "def plot_bprmf_map(factors_values, map_values):\n",
    "    plt.plot(factors_values, map_values)\n",
    "    plt.xlabel('Factors')\n",
    "    plt.ylabel('MAP@1')\n",
    "    plt.title('MAP@1 for different number of factors')\n",
    "    plt.show()\n",
    "        "
   ]
  },
  {
   "cell_type": "code",
   "execution_count": null,
   "id": "78e2a72c",
   "metadata": {},
   "outputs": [],
   "source": [
    "# BEWARE! This cell may take a long time to run.\n",
    "# Expected time: about 30min to 1h\n",
    "\n",
    "# Testing for multiple factors values\n",
    "variables['ex-02'] = [1, 3, 5, 10, 20]\n",
    "\n",
    "# Getting the results\n",
    "awnsers['ex-02'] = list(compute_bprmf(variables['ex-02']))\n",
    "\n",
    "# Showing the results\n",
    "awnsers['ex-02']"
   ]
  },
  {
   "cell_type": "code",
   "execution_count": null,
   "id": "44eaf20d",
   "metadata": {},
   "outputs": [],
   "source": [
    "# Extracting the MAP@1 values from the results dictionary\n",
    "bprmf_map_list = [metrics['MAP@1'] for metrics in awnsers['ex-02']]\n",
    "\n",
    "# Plotting the results\n",
    "plot_bprmf_map(variables['ex-02'], bprmf_map_list)"
   ]
  },
  {
   "cell_type": "markdown",
   "id": "38f128cf",
   "metadata": {},
   "source": [
    "O BprMF é um modelo baseado em fatoração de matrizes. Quanto maior o número de fatores, maior a complexidade do modelo. Desse modo, excluindo a possibilidade de overfiting, aumentar o número de fatores aumenta a capacidade do modelo de capturar as características latentes nas interações entre usuários e itens. No entanto, conforme o número de fatores aumenta, o modelo pode passar a dar overfitting e sofrer da maldição da dimensionalidade. Ou seja, eventualmente, o aumento do número de fatores resulta em uma piora da performance. Porém, até esse ponto, observamos um aumento da medida \"MAP@1\"."
   ]
  },
  {
   "cell_type": "markdown",
   "id": "00c91bd5",
   "metadata": {},
   "source": [
    "***Exercício 03:*** Implemente a métrica Average Precision para um único usuário. Utilize as recomendações geradas pelo algoritmo BPRMF (consulte notebook Aula04_Exemplo como base)."
   ]
  },
  {
   "cell_type": "code",
   "execution_count": 25,
   "id": "4179110e",
   "metadata": {},
   "outputs": [],
   "source": [
    "import random"
   ]
  },
  {
   "cell_type": "code",
   "execution_count": 26,
   "id": "4771bbe5",
   "metadata": {},
   "outputs": [
    {
     "data": {
      "text/html": [
       "<div>\n",
       "<style scoped>\n",
       "    .dataframe tbody tr th:only-of-type {\n",
       "        vertical-align: middle;\n",
       "    }\n",
       "\n",
       "    .dataframe tbody tr th {\n",
       "        vertical-align: top;\n",
       "    }\n",
       "\n",
       "    .dataframe thead th {\n",
       "        text-align: right;\n",
       "    }\n",
       "</style>\n",
       "<table border=\"1\" class=\"dataframe\">\n",
       "  <thead>\n",
       "    <tr style=\"text-align: right;\">\n",
       "      <th></th>\n",
       "      <th>userId</th>\n",
       "      <th>movieId</th>\n",
       "      <th>prediction</th>\n",
       "    </tr>\n",
       "  </thead>\n",
       "  <tbody>\n",
       "    <tr>\n",
       "      <th>0</th>\n",
       "      <td>0</td>\n",
       "      <td>36</td>\n",
       "      <td>8.456659</td>\n",
       "    </tr>\n",
       "    <tr>\n",
       "      <th>1</th>\n",
       "      <td>0</td>\n",
       "      <td>64</td>\n",
       "      <td>8.438413</td>\n",
       "    </tr>\n",
       "    <tr>\n",
       "      <th>2</th>\n",
       "      <td>0</td>\n",
       "      <td>171</td>\n",
       "      <td>8.040862</td>\n",
       "    </tr>\n",
       "    <tr>\n",
       "      <th>3</th>\n",
       "      <td>0</td>\n",
       "      <td>55</td>\n",
       "      <td>7.871878</td>\n",
       "    </tr>\n",
       "    <tr>\n",
       "      <th>4</th>\n",
       "      <td>0</td>\n",
       "      <td>19</td>\n",
       "      <td>7.857437</td>\n",
       "    </tr>\n",
       "  </tbody>\n",
       "</table>\n",
       "</div>"
      ],
      "text/plain": [
       "   userId  movieId  prediction\n",
       "0       0       36    8.456659\n",
       "1       0       64    8.438413\n",
       "2       0      171    8.040862\n",
       "3       0       55    7.871878\n",
       "4       0       19    7.857437"
      ]
     },
     "execution_count": 26,
     "metadata": {},
     "output_type": "execute_result"
    }
   ],
   "source": [
    "# Reading the predictions\n",
    "factors = 3\n",
    "BprMF_pred = pd.read_csv(f'results/bprmf_factors_{factors}.dat', sep='\\t', names=['userId', 'movieId', 'prediction'])\n",
    "BprMF_pred.head()"
   ]
  },
  {
   "cell_type": "code",
   "execution_count": 27,
   "id": "03ea55bf",
   "metadata": {},
   "outputs": [],
   "source": [
    "# Support functions\n",
    "\n",
    "# NOTE: not very optimal... too bad.\n",
    "def average_precision(predictions, ground_truth, relevance_threshold=3):\n",
    "    # Merge the dataframes\n",
    "    merged_df = pd.merge(predictions, ground_truth, on=['userId', 'movieId'], how='left')\n",
    "    \n",
    "    # Assume 0 for missing ratings\n",
    "    merged_df['rating'] = merged_df['rating'].fillna(0)\n",
    "    \n",
    "    # Binarize the ratings\n",
    "    merged_df['relevant'] = merged_df['rating'] >= relevance_threshold\n",
    "    \n",
    "    # Sort the values by userId and prediction in descending order\n",
    "    merged_df = merged_df.sort_values(['userId', 'prediction'], ascending=[True, False])\n",
    "    \n",
    "    # Dictionary to store the AP for each user\n",
    "    aps = {}\n",
    "    \n",
    "    # Iterate over each user\n",
    "    for user_id, group in merged_df.groupby('userId'):\n",
    "        # How many relevant items the user has rated?\n",
    "        num_relevant = group['relevant'].sum() \n",
    "        \n",
    "        # If no relevant items, AP is 0\n",
    "        if num_relevant == 0:\n",
    "            aps[user_id] = 0\n",
    "            continue\n",
    "        \n",
    "        # Number of hits\n",
    "        cumulative_hits = 0\n",
    "        precision_sum = 0.0\n",
    "        \n",
    "        # Go through each ranked item and calculate precision\n",
    "        for rank, row in enumerate(group.itertuples(), 1):\n",
    "            if row.relevant:  # If this item is relevant\n",
    "                cumulative_hits += 1\n",
    "                precision_at_k = cumulative_hits / rank\n",
    "                precision_sum += precision_at_k\n",
    "                \n",
    "        # Average Precision for this user\n",
    "        ap = precision_sum / num_relevant\n",
    "        aps[user_id] = ap\n",
    "    \n",
    "    return aps"
   ]
  },
  {
   "cell_type": "code",
   "execution_count": 28,
   "id": "e560d700",
   "metadata": {},
   "outputs": [
    {
     "data": {
      "text/plain": [
       "{10476: 0.8041666666666667}"
      ]
     },
     "execution_count": 28,
     "metadata": {},
     "output_type": "execute_result"
    }
   ],
   "source": [
    "# Selecting a random user\n",
    "sample_size = 1\n",
    "list_of_users = BprMF_pred.userId.unique().tolist()\n",
    "random.seed(42) # For reproducibility\n",
    "random_users = random.sample(list_of_users, sample_size)\n",
    "\n",
    "# Filtering the predictions for the selected user\n",
    "BprMF_pred_user = BprMF_pred[BprMF_pred.userId.isin(random_users)]\n",
    "\n",
    "# Calculating the mean precision for the selected user\n",
    "awnsers['ex-03'] = average_precision(\n",
    "    predictions=BprMF_pred_user,\n",
    "    ground_truth=df,\n",
    "    relevance_threshold=3 # Considering ratings >= 3 as relevant\n",
    ")\n",
    "\n",
    "# Showing the results\n",
    "awnsers['ex-03']"
   ]
  },
  {
   "cell_type": "markdown",
   "id": "916be3ec",
   "metadata": {},
   "source": [
    "***Exercício 04:*** Um importante aspecto que pode ser avaliado em Sistemas de Recomendação é a diversidade da lista de recomendações. A métrica Intra-List Similarity (ILS) aplica uma função de similaridade (e.g. Cosseno, Jaccard, Pearson, etc.) entre todos os pares de itens da lista de recomendação, usando seus metadados como gêneros, tags, etc. Mais detalhes sobre essa métrica podem ser encontrados em: https://grouplens.org/site-content/uploads/Improving-WWW-20051.pdf"
   ]
  },
  {
   "cell_type": "markdown",
   "id": "80e440b3",
   "metadata": {},
   "source": [
    "***a)*** Implemente uma função que calcula a ILS de uma lista de recomendação para um único usuário. Utilize os gêneros de filmes."
   ]
  },
  {
   "cell_type": "code",
   "execution_count": 29,
   "id": "52d4326f",
   "metadata": {},
   "outputs": [],
   "source": [
    "def get_genres(movieId):\n",
    "    return movies_genres[movies_genres.movieId == movieId].genre.values\n",
    "\n",
    "\n",
    "def similarity_score(movieId1, movieId2):\n",
    "    # Get the genres\n",
    "    genre_set_1 = set(get_genres(movieId1))\n",
    "    genre_set_2 = set(get_genres(movieId2))\n",
    "\n",
    "    # Calculate the intersection and union of the genre sets\n",
    "    intersection_size = len(genre_set_1 & genre_set_2)\n",
    "    union_size = len(genre_set_1 | genre_set_2)\n",
    "    \n",
    "    # Calculate Jaccard similarity\n",
    "    return intersection_size / union_size if union_size > 0 else 0\n",
    "\n",
    "\n",
    "# get similarity matrix for all items\n",
    "def get_similarity_matrix():\n",
    "    n_items = df.movieId.max() + 1\n",
    "    similarity_matrix = np.zeros((n_items, n_items))\n",
    "    for i in range(n_items):\n",
    "        for j in range(n_items):\n",
    "            similarity_matrix[i][j] = similarity_score(i, j)\n",
    "        \n",
    "    return similarity_matrix\n",
    "\n",
    "\n",
    "def recomend_movies(user_id, n, predictions, ratings):\n",
    "    # Remove already rated movies\n",
    "    predictions = predictions[~predictions.movieId.isin(ratings[ratings.userId == user_id].movieId)]\n",
    "    \n",
    "    # Get the top n movies\n",
    "    top_n = predictions[predictions.userId == user_id].nlargest(n, 'prediction')\n",
    "    \n",
    "    # Remove the userId column\n",
    "    top_n = top_n.drop('userId', axis=1)\n",
    "    \n",
    "    return top_n.movieId.tolist()\n",
    "\n",
    "\n",
    "# TODO: optimize this\n",
    "def calculate_ILS(recommendations, similarity_matrix):\n",
    "    # Shorthand\n",
    "    n = len(recommendations)\n",
    "    \n",
    "    # Trivial case: we need at least two movies\n",
    "    if n < 2: return 0.0\n",
    "\n",
    "    # Initialize a list to store similarity scores between all pairs\n",
    "    similarity_scores = []\n",
    "    \n",
    "    # Loop over all pairs of movies in the recommendation list\n",
    "    for i in range(n):\n",
    "        for j in range(i + 1, n):\n",
    "            movie_i = recommendations[i]\n",
    "            movie_j = recommendations[j]\n",
    "            \n",
    "            # Get the similarity from the similarity matrix\n",
    "            sim_ij = similarity_matrix[movie_i, movie_j]\n",
    "            similarity_scores.append(sim_ij)\n",
    "    \n",
    "    # Calculate the average similarity\n",
    "    ils = np.mean(similarity_scores)\n",
    "    \n",
    "    return ils"
   ]
  },
  {
   "cell_type": "code",
   "execution_count": 30,
   "id": "89c3b8d5",
   "metadata": {},
   "outputs": [],
   "source": [
    "# Pre-compute the similarity matrix\n",
    "sim_matrix = get_similarity_matrix()"
   ]
  },
  {
   "cell_type": "code",
   "execution_count": 31,
   "id": "fa871373",
   "metadata": {},
   "outputs": [
    {
     "data": {
      "text/plain": [
       "0.2"
      ]
     },
     "execution_count": 31,
     "metadata": {},
     "output_type": "execute_result"
    }
   ],
   "source": [
    "# Select a random user\n",
    "list_of_users = BprMF_pred.userId.unique().tolist()\n",
    "random.seed(42) # For reproducibility\n",
    "random_users = random.sample(list_of_users, 1)\n",
    "\n",
    "# Getting recomendations for the selected user\n",
    "number_of_recomendations = 10\n",
    "recomendations = recomend_movies(\n",
    "    user_id=random_users[0],\n",
    "    n=number_of_recomendations,\n",
    "    predictions=BprMF_pred,\n",
    "    ratings=df\n",
    ")\n",
    "\n",
    "# Calculating the ILS for the selected user\n",
    "awnsers['ex-04'] = calculate_ILS(recomendations, sim_matrix)\n",
    "\n",
    "# Showing the results\n",
    "awnsers['ex-04']"
   ]
  },
  {
   "cell_type": "markdown",
   "id": "def098f0",
   "metadata": {},
   "source": [
    "***b)*** Utilize a função que implementou no item (a) para calcular a ILS de todos os usuários da base de dados. Utilize as recomendações geradas pelo algoritmo BPR MF do CaseRecommender."
   ]
  },
  {
   "cell_type": "code",
   "execution_count": 32,
   "id": "e7880c83",
   "metadata": {
    "scrolled": true
   },
   "outputs": [],
   "source": [
    "def ILS(predictions, ratings, sim_matrix, n):\n",
    "    user_ids = predictions.userId.unique()\n",
    "    \n",
    "    # Compute ils for each user\n",
    "    for user_id in user_ids:\n",
    "        recomendations = recomend_movies(user_id, n, predictions, ratings)\n",
    "        yield user_id, calculate_ILS(recomendations, sim_matrix)"
   ]
  },
  {
   "cell_type": "code",
   "execution_count": null,
   "id": "7dd514c6",
   "metadata": {},
   "outputs": [],
   "source": [
    "# Preparing the execution\n",
    "ILS_values = ILS(\n",
    "    predictions=BprMF_pred,\n",
    "    ratings=df,\n",
    "    sim_matrix=sim_matrix,\n",
    "    n=10\n",
    ")\n",
    "\n",
    "# Computing the results\n",
    "awnsers['ex-05'] = list(ILS_values)\n",
    "\n",
    "awnsers['ex-05'] "
   ]
  },
  {
   "cell_type": "markdown",
   "id": "76cf2e0d",
   "metadata": {},
   "source": [
    "***c)*** Aplique a função que implementou no item (b) para calcular a ILS das recomendações geradas pelos algoritmos ItemKNN e ItemAttributeKNN. Compare os resultados de todos os algoritmos, verificando inclusive o que acontece com a acurácia (precisão, MAP ou NDCG) quando a diversidade aumenta ou diminui."
   ]
  },
  {
   "cell_type": "code",
   "execution_count": 129,
   "id": "3a5de2af",
   "metadata": {},
   "outputs": [],
   "source": [
    "# Needed modules\n",
    "import os"
   ]
  },
  {
   "cell_type": "code",
   "execution_count": 148,
   "id": "bf5bea2c",
   "metadata": {},
   "outputs": [],
   "source": [
    "# Support functions\n",
    "\n",
    "# Read all the model data (predictions and metrics)\n",
    "def read_models():\n",
    "    # read all files in results folder\n",
    "    filenames_dat = os.listdir('results')\n",
    "    # filenames_no_ext = [os.path.splitext(filename)[0] for filename in filenames_dat]\n",
    "    \n",
    "    read_df = lambda filename: pd.read_csv(f'results/{filename}', sep='\\t', names=['userId', 'movieId', 'prediction'])\n",
    "    \n",
    "    models_pred = {filename: read_df(filename) for filename in filenames_dat}\n",
    "    \n",
    "    # function to substitute the .dat extension for .txt\n",
    "    replace_dat = lambda x: x.replace('.dat', '.txt')\n",
    "    read_metric = lambda filename: open(f'metrics/{filename}').read()\n",
    "    \n",
    "    filenames_txt = map(replace_dat, filenames_dat)\n",
    "    models_metrics = {filename: read_metric(filename) for filename in filenames_txt}\n",
    "    \n",
    "    filenames_no_ext = [os.path.splitext(filename)[0] for filename in filenames_dat]\n",
    "    \n",
    "    return {\n",
    "        name: {'predictions': data, 'metrics': metric} \n",
    "        for name, data, metric in \n",
    "        zip(filenames_no_ext, models_pred.values(), models_metrics.values())\n",
    "    }\n",
    "    "
   ]
  },
  {
   "cell_type": "code",
   "execution_count": 185,
   "id": "be74bb84",
   "metadata": {},
   "outputs": [],
   "source": [
    "# Reading everything we done so far\n",
    "models = read_models()"
   ]
  },
  {
   "cell_type": "code",
   "execution_count": null,
   "id": "aa33cc65",
   "metadata": {},
   "outputs": [],
   "source": [
    "number_of_recomendations = 10\n",
    "\n",
    "all_ils = {\n",
    "    name: list(ILS(data['predictions'], df, sim_matrix, number_of_recomendations))\n",
    "    for name, data in models.items()\n",
    "}"
   ]
  },
  {
   "cell_type": "code",
   "execution_count": 167,
   "id": "990e7f2c",
   "metadata": {},
   "outputs": [],
   "source": [
    "selected_models_name = [f'item_attrib_knn_k_{k}' for k in range(10, 30 + 1, 20)]\n",
    "selected_models = [models[name] for name in selected_models_name]\n",
    "metrics_evolution = [get_metrics(m['metrics'], ['RMSE']) for m in selected_models]\n",
    "ils_evolution = [all_ils[name] for name in selected_models_name]"
   ]
  },
  {
   "cell_type": "code",
   "execution_count": 172,
   "id": "6229fc52",
   "metadata": {},
   "outputs": [],
   "source": [
    "def plot_evolution(rmse_list, ils_list):\n",
    "    plt.figure(figsize=(8, 6))\n",
    "    \n",
    "    # Plot RMSE vs ILS\n",
    "    plt.plot(rmse_list, ils_list, marker='o', linestyle='-', color='b', label='RMSE vs ILS')\n",
    "    \n",
    "    # Add labels and title\n",
    "    plt.xlabel('RMSE')\n",
    "    plt.ylabel('ILS (Intra-List Similarity)')\n",
    "    plt.title('RMSE Evolution vs ILS Evolution')\n",
    "    \n",
    "    # Add a grid and legend\n",
    "    plt.grid(True)\n",
    "    plt.legend()\n",
    "    \n",
    "    # Show the plot\n",
    "    plt.show()"
   ]
  },
  {
   "cell_type": "code",
   "execution_count": null,
   "id": "c635c13e",
   "metadata": {},
   "outputs": [],
   "source": [
    "rmse_list = [m['RMSE'] for m in metrics_evolution]\n",
    "ils_list = [np.mean([ils for _, ils in ils]) for ils in ils_evolution]\n",
    "\n",
    "plot_evolution(rmse_list, ils_list)"
   ]
  }
 ],
 "metadata": {
  "kernelspec": {
   "display_name": "Python 3",
   "language": "python",
   "name": "python3"
  },
  "language_info": {
   "codemirror_mode": {
    "name": "ipython",
    "version": 3
   },
   "file_extension": ".py",
   "mimetype": "text/x-python",
   "name": "python",
   "nbconvert_exporter": "python",
   "pygments_lexer": "ipython3",
   "version": "3.10.12"
  }
 },
 "nbformat": 4,
 "nbformat_minor": 5
}
